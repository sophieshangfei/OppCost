{
 "cells": [
  {
   "cell_type": "code",
   "execution_count": 3,
   "metadata": {},
   "outputs": [],
   "source": [
    "import pandas as pd\n",
    "import numpy as np\n",
    "import matplotlib.pyplot as plt\n",
    "import csv\n",
    "import json\n",
    "import seaborn as sns\n",
    "%matplotlib inline"
   ]
  },
  {
   "cell_type": "markdown",
   "metadata": {},
   "source": [
    "# no prescreen"
   ]
  },
  {
   "cell_type": "code",
   "execution_count": 4,
   "metadata": {},
   "outputs": [
    {
     "name": "stderr",
     "output_type": "stream",
     "text": [
      "/Library/Frameworks/Python.framework/Versions/3.6/lib/python3.6/site-packages/IPython/core/interactiveshell.py:3044: DtypeWarning: Columns (0) have mixed types. Specify dtype option on import or set low_memory=False.\n",
      "  interactivity=interactivity, compiler=compiler, result=result)\n"
     ]
    }
   ],
   "source": [
    "df1 = pd.read_csv('no_prescreening_raw/data_exp_8449-v8_task-i9un.csv', sep = \",\") # high to low\n",
    "df2 = pd.read_csv('no_prescreening_raw/data_exp_8449-v8_task-d74y.csv', sep = \",\") # low to high"
   ]
  },
  {
   "cell_type": "code",
   "execution_count": 5,
   "metadata": {},
   "outputs": [],
   "source": [
    "#get rid of scientific notation\n",
    "pd.set_option('display.float_format', lambda x: '%.3f' % x)\n",
    "\n",
    "#replace all null and nan to the np.nan\n",
    "df1 = df1.replace('null', np.nan)\n",
    "df1 = df1.replace('nan', np.nan)\n",
    "df2 = df2.replace('null', np.nan)\n",
    "df2 = df2.replace('nan', np.nan)\n",
    "\n",
    "#turn object into floats and round them and rename them\n",
    "df1['end_time'] = round(df1['end_time'].astype(float))\n",
    "df1['start_time'] = round(df1['start_time'].astype(float))\n",
    "df1['builtin_rt'] = df1['builtin rt'].astype(float) #dont round up builtin reaction time\n",
    "df1['quality_check'] = df1['rod fixing checked'].astype(float)\n",
    "df1['id'] = df1['Participant Private ID']\n",
    "df1['function_id'] = df1['function id']\n",
    "df1['round_instance'] = df1['round instance']\n",
    "df1['trial_index'] = df1['index']\n",
    "df1['key_pressed'] = df1['key pressed']\n",
    "df1['external_id'] = df1['Participant Public ID']\n",
    "df1['date'] = df1['UTC Date']\n",
    "\n",
    "df2['end_time'] = round(df2['end_time'].astype(float))\n",
    "df2['start_time'] = round(df2['start_time'].astype(float))\n",
    "#df2['builtin_rt'] = df2['builtin rt'].astype(float) #dont round up builtin reaction time\n",
    "df2['quality_check'] = df2['rod fixing checked'].astype(float)\n",
    "df2['id'] = df2['Participant Private ID']\n",
    "df2['round_instance'] = df2['round_instance']\n",
    "df2['function_id'] = df2['function id']\n",
    "df2['trial_index'] = df2['index']\n",
    "df2['key_pressed'] = df2['key pressed']\n",
    "df2['external_id'] = df2['Participant Public ID']\n",
    "df2['date'] = df1['UTC Date']"
   ]
  },
  {
   "cell_type": "code",
   "execution_count": 6,
   "metadata": {},
   "outputs": [],
   "source": [
    "#select columns from df1 and df2\n",
    "data1 = df1[['external_id', 'trial_index','id','price_displayed', 'key pressed','environment', 'order', \n",
    "           'round_instance', 'task', 'function_id', 'quality_check', \n",
    "           'builtin_rt', 'end_time', 'start_time', 'Participant Public ID', 'key_pressed', 'date']]\n",
    "data2 = df2[['external_id', 'trial_index','id','price_displayed', 'key pressed','environment', 'order', \n",
    "           'round_instance', 'task', 'function_id', 'quality_check', \n",
    "           'builtin_rt', 'end_time', 'start_time', 'Participant Public ID', 'key_pressed', 'date']]"
   ]
  },
  {
   "cell_type": "code",
   "execution_count": 7,
   "metadata": {},
   "outputs": [],
   "source": [
    "data = pd.concat([data1, data2])"
   ]
  },
  {
   "cell_type": "code",
   "execution_count": 9,
   "metadata": {},
   "outputs": [],
   "source": [
    "data= data[(data.function_id == \"rod_fixing\")|(data.function_id == \"fishing_l\")|(data.function_id == \"fishing_h\")]\n"
   ]
  },
  {
   "cell_type": "code",
   "execution_count": 12,
   "metadata": {},
   "outputs": [
    {
     "data": {
      "text/html": [
       "<div>\n",
       "<style scoped>\n",
       "    .dataframe tbody tr th:only-of-type {\n",
       "        vertical-align: middle;\n",
       "    }\n",
       "\n",
       "    .dataframe tbody tr th {\n",
       "        vertical-align: top;\n",
       "    }\n",
       "\n",
       "    .dataframe thead th {\n",
       "        text-align: right;\n",
       "    }\n",
       "</style>\n",
       "<table border=\"1\" class=\"dataframe\">\n",
       "  <thead>\n",
       "    <tr style=\"text-align: right;\">\n",
       "      <th></th>\n",
       "      <th>id</th>\n",
       "      <th>price_displayed</th>\n",
       "      <th>factor</th>\n",
       "      <th>tap</th>\n",
       "    </tr>\n",
       "  </thead>\n",
       "  <tbody>\n",
       "    <tr>\n",
       "      <th>0</th>\n",
       "      <td>55d5c5d9db6a810011fa0658</td>\n",
       "      <td>0.100</td>\n",
       "      <td>0.001</td>\n",
       "      <td>256</td>\n",
       "    </tr>\n",
       "    <tr>\n",
       "      <th>1</th>\n",
       "      <td>55d5c5d9db6a810011fa0658</td>\n",
       "      <td>0.100</td>\n",
       "      <td>0.000</td>\n",
       "      <td>274</td>\n",
       "    </tr>\n",
       "    <tr>\n",
       "      <th>2</th>\n",
       "      <td>55d5c5d9db6a810011fa0658</td>\n",
       "      <td>0.400</td>\n",
       "      <td>0.001</td>\n",
       "      <td>239</td>\n",
       "    </tr>\n",
       "    <tr>\n",
       "      <th>3</th>\n",
       "      <td>55d5c5d9db6a810011fa0658</td>\n",
       "      <td>0.400</td>\n",
       "      <td>0.000</td>\n",
       "      <td>243</td>\n",
       "    </tr>\n",
       "    <tr>\n",
       "      <th>4</th>\n",
       "      <td>55d5c5d9db6a810011fa0658</td>\n",
       "      <td>0.400</td>\n",
       "      <td>0.000</td>\n",
       "      <td>32</td>\n",
       "    </tr>\n",
       "    <tr>\n",
       "      <th>5</th>\n",
       "      <td>55d5c5d9db6a810011fa0658</td>\n",
       "      <td>1.000</td>\n",
       "      <td>0.001</td>\n",
       "      <td>269</td>\n",
       "    </tr>\n",
       "    <tr>\n",
       "      <th>6</th>\n",
       "      <td>55d5c5d9db6a810011fa0658</td>\n",
       "      <td>1.000</td>\n",
       "      <td>0.000</td>\n",
       "      <td>263</td>\n",
       "    </tr>\n",
       "    <tr>\n",
       "      <th>7</th>\n",
       "      <td>55d5c5d9db6a810011fa0658</td>\n",
       "      <td>1.000</td>\n",
       "      <td>0.000</td>\n",
       "      <td>16</td>\n",
       "    </tr>\n",
       "    <tr>\n",
       "      <th>8</th>\n",
       "      <td>55d5c5d9db6a810011fa0658</td>\n",
       "      <td>2.500</td>\n",
       "      <td>0.001</td>\n",
       "      <td>273</td>\n",
       "    </tr>\n",
       "    <tr>\n",
       "      <th>9</th>\n",
       "      <td>55d5c5d9db6a810011fa0658</td>\n",
       "      <td>2.500</td>\n",
       "      <td>0.000</td>\n",
       "      <td>238</td>\n",
       "    </tr>\n",
       "  </tbody>\n",
       "</table>\n",
       "</div>"
      ],
      "text/plain": [
       "                         id  price_displayed  factor  tap\n",
       "0  55d5c5d9db6a810011fa0658            0.100   0.001  256\n",
       "1  55d5c5d9db6a810011fa0658            0.100   0.000  274\n",
       "2  55d5c5d9db6a810011fa0658            0.400   0.001  239\n",
       "3  55d5c5d9db6a810011fa0658            0.400   0.000  243\n",
       "4  55d5c5d9db6a810011fa0658            0.400   0.000   32\n",
       "5  55d5c5d9db6a810011fa0658            1.000   0.001  269\n",
       "6  55d5c5d9db6a810011fa0658            1.000   0.000  263\n",
       "7  55d5c5d9db6a810011fa0658            1.000   0.000   16\n",
       "8  55d5c5d9db6a810011fa0658            2.500   0.001  273\n",
       "9  55d5c5d9db6a810011fa0658            2.500   0.000  238"
      ]
     },
     "execution_count": 12,
     "metadata": {},
     "output_type": "execute_result"
    }
   ],
   "source": [
    "bonus = data.sort_values('date').groupby([\"external_id\",\"price_displayed\", \"function_id\"]).size()\n",
    "bonus = bonus.reset_index()\n",
    "bonus.columns = ['id', 'price_displayed', 'factor', 'tap']\n",
    "bonus = bonus.replace('fishing_h', 5/6000)\n",
    "bonus = bonus.replace('fishing_l', 0.5/6000)\n",
    "bonus = bonus.replace('rod_fixing', 0)\n",
    "bonus.head(10)"
   ]
  },
  {
   "cell_type": "code",
   "execution_count": 14,
   "metadata": {},
   "outputs": [],
   "source": [
    "bonus = bonus.round(20)\n",
    "bonus['earning'] = bonus['price_displayed']*bonus['factor']*bonus['tap']\n",
    "pay = bonus.groupby(['id'])['earning'].sum().reset_index()\n",
    "pay['earning'] = np.ceil(pay['earning'])\n",
    "pay['prolific'] = [','.join(i) for i in zip(pay[\"id\"].map(str),pay[\"earning\"].astype(str))]\n",
    "pay\n",
    "pay.to_csv('no_prescreen_prolific_bonus.csv', sep = ',', encoding='utf-8')"
   ]
  },
  {
   "cell_type": "markdown",
   "metadata": {},
   "source": [
    "# Prescreen"
   ]
  },
  {
   "cell_type": "code",
   "execution_count": 15,
   "metadata": {},
   "outputs": [],
   "source": [
    "df1 = pd.read_csv('apathy-prescreen_raw/data_exp_8835-v5_task-i9un.csv', sep = \",\") # high to low\n",
    "df2 = pd.read_csv('apathy-prescreen_raw/data_exp_8835-v5_task-d74y.csv', sep = \",\") # low to high"
   ]
  },
  {
   "cell_type": "code",
   "execution_count": 16,
   "metadata": {},
   "outputs": [],
   "source": [
    "#get rid of scientific notation\n",
    "pd.set_option('display.float_format', lambda x: '%.3f' % x)\n",
    "\n",
    "#replace all null and nan to the np.nan\n",
    "df1 = df1.replace('null', np.nan)\n",
    "df1 = df1.replace('nan', np.nan)\n",
    "df2 = df2.replace('null', np.nan)\n",
    "df2 = df2.replace('nan', np.nan)\n",
    "\n",
    "#turn object into floats and round them and rename them\n",
    "df1['end_time'] = round(df1['end_time'].astype(float))\n",
    "df1['start_time'] = round(df1['start_time'].astype(float))\n",
    "df1['builtin_rt'] = df1['builtin rt'].astype(float) #dont round up builtin reaction time\n",
    "df1['quality_check'] = df1['rod fixing checked'].astype(float)\n",
    "df1['id'] = df1['Participant Private ID']\n",
    "df1['function_id'] = df1['function id']\n",
    "df1['round_instance'] = df1['round instance']\n",
    "df1['trial_index'] = df1['index']\n",
    "df1['key_pressed'] = df1['key pressed']\n",
    "df1['external_id'] = df1['Participant Public ID']\n",
    "df1['date'] = df1['UTC Date']\n",
    "\n",
    "df2['end_time'] = round(df2['end_time'].astype(float))\n",
    "df2['start_time'] = round(df2['start_time'].astype(float))\n",
    "#df2['builtin_rt'] = df2['builtin rt'].astype(float) #dont round up builtin reaction time\n",
    "df2['quality_check'] = df2['rod fixing checked'].astype(float)\n",
    "df2['id'] = df2['Participant Private ID']\n",
    "df2['round_instance'] = df2['round_instance']\n",
    "df2['function_id'] = df2['function id']\n",
    "df2['trial_index'] = df2['index']\n",
    "df2['key_pressed'] = df2['key pressed']\n",
    "df2['external_id'] = df2['Participant Public ID']\n",
    "df2['date'] = df1['UTC Date']"
   ]
  },
  {
   "cell_type": "code",
   "execution_count": 17,
   "metadata": {},
   "outputs": [],
   "source": [
    "#select columns from df1 and df2\n",
    "data1 = df1[['external_id', 'trial_index','id','price_displayed', 'key pressed','environment', 'order', \n",
    "           'round_instance', 'task', 'function_id', 'quality_check', \n",
    "           'builtin_rt', 'end_time', 'start_time', 'Participant Public ID', 'key_pressed', 'date']]\n",
    "data2 = df2[['external_id', 'trial_index','id','price_displayed', 'key pressed','environment', 'order', \n",
    "           'round_instance', 'task', 'function_id', 'quality_check', \n",
    "           'builtin_rt', 'end_time', 'start_time', 'Participant Public ID', 'key_pressed', 'date']]"
   ]
  },
  {
   "cell_type": "code",
   "execution_count": 18,
   "metadata": {},
   "outputs": [],
   "source": [
    "data = pd.concat([data1, data2])"
   ]
  },
  {
   "cell_type": "code",
   "execution_count": 19,
   "metadata": {},
   "outputs": [],
   "source": [
    "data= data[(data.function_id == \"rod_fixing\")|(data.function_id == \"fishing_l\")|(data.function_id == \"fishing_h\")]\n"
   ]
  },
  {
   "cell_type": "code",
   "execution_count": 20,
   "metadata": {},
   "outputs": [
    {
     "data": {
      "text/html": [
       "<div>\n",
       "<style scoped>\n",
       "    .dataframe tbody tr th:only-of-type {\n",
       "        vertical-align: middle;\n",
       "    }\n",
       "\n",
       "    .dataframe tbody tr th {\n",
       "        vertical-align: top;\n",
       "    }\n",
       "\n",
       "    .dataframe thead th {\n",
       "        text-align: right;\n",
       "    }\n",
       "</style>\n",
       "<table border=\"1\" class=\"dataframe\">\n",
       "  <thead>\n",
       "    <tr style=\"text-align: right;\">\n",
       "      <th></th>\n",
       "      <th>id</th>\n",
       "      <th>price_displayed</th>\n",
       "      <th>factor</th>\n",
       "      <th>tap</th>\n",
       "    </tr>\n",
       "  </thead>\n",
       "  <tbody>\n",
       "    <tr>\n",
       "      <th>0</th>\n",
       "      <td>54762f9efdf99b05557e04be</td>\n",
       "      <td>0.100</td>\n",
       "      <td>0.001</td>\n",
       "      <td>236</td>\n",
       "    </tr>\n",
       "    <tr>\n",
       "      <th>1</th>\n",
       "      <td>54762f9efdf99b05557e04be</td>\n",
       "      <td>0.100</td>\n",
       "      <td>0.000</td>\n",
       "      <td>263</td>\n",
       "    </tr>\n",
       "    <tr>\n",
       "      <th>2</th>\n",
       "      <td>54762f9efdf99b05557e04be</td>\n",
       "      <td>0.100</td>\n",
       "      <td>0.000</td>\n",
       "      <td>16</td>\n",
       "    </tr>\n",
       "    <tr>\n",
       "      <th>3</th>\n",
       "      <td>54762f9efdf99b05557e04be</td>\n",
       "      <td>0.400</td>\n",
       "      <td>0.001</td>\n",
       "      <td>301</td>\n",
       "    </tr>\n",
       "    <tr>\n",
       "      <th>4</th>\n",
       "      <td>54762f9efdf99b05557e04be</td>\n",
       "      <td>0.400</td>\n",
       "      <td>0.000</td>\n",
       "      <td>266</td>\n",
       "    </tr>\n",
       "    <tr>\n",
       "      <th>5</th>\n",
       "      <td>54762f9efdf99b05557e04be</td>\n",
       "      <td>1.000</td>\n",
       "      <td>0.001</td>\n",
       "      <td>281</td>\n",
       "    </tr>\n",
       "    <tr>\n",
       "      <th>6</th>\n",
       "      <td>54762f9efdf99b05557e04be</td>\n",
       "      <td>1.000</td>\n",
       "      <td>0.000</td>\n",
       "      <td>283</td>\n",
       "    </tr>\n",
       "    <tr>\n",
       "      <th>7</th>\n",
       "      <td>54762f9efdf99b05557e04be</td>\n",
       "      <td>1.000</td>\n",
       "      <td>0.000</td>\n",
       "      <td>32</td>\n",
       "    </tr>\n",
       "    <tr>\n",
       "      <th>8</th>\n",
       "      <td>54762f9efdf99b05557e04be</td>\n",
       "      <td>2.500</td>\n",
       "      <td>0.001</td>\n",
       "      <td>299</td>\n",
       "    </tr>\n",
       "    <tr>\n",
       "      <th>9</th>\n",
       "      <td>54762f9efdf99b05557e04be</td>\n",
       "      <td>2.500</td>\n",
       "      <td>0.000</td>\n",
       "      <td>287</td>\n",
       "    </tr>\n",
       "  </tbody>\n",
       "</table>\n",
       "</div>"
      ],
      "text/plain": [
       "                         id  price_displayed  factor  tap\n",
       "0  54762f9efdf99b05557e04be            0.100   0.001  236\n",
       "1  54762f9efdf99b05557e04be            0.100   0.000  263\n",
       "2  54762f9efdf99b05557e04be            0.100   0.000   16\n",
       "3  54762f9efdf99b05557e04be            0.400   0.001  301\n",
       "4  54762f9efdf99b05557e04be            0.400   0.000  266\n",
       "5  54762f9efdf99b05557e04be            1.000   0.001  281\n",
       "6  54762f9efdf99b05557e04be            1.000   0.000  283\n",
       "7  54762f9efdf99b05557e04be            1.000   0.000   32\n",
       "8  54762f9efdf99b05557e04be            2.500   0.001  299\n",
       "9  54762f9efdf99b05557e04be            2.500   0.000  287"
      ]
     },
     "execution_count": 20,
     "metadata": {},
     "output_type": "execute_result"
    }
   ],
   "source": [
    "bonus = data.sort_values('date').groupby([\"external_id\",\"price_displayed\", \"function_id\"]).size()\n",
    "bonus = bonus.reset_index()\n",
    "bonus.columns = ['id', 'price_displayed', 'factor', 'tap']\n",
    "bonus = bonus.replace('fishing_h', 5/6000)\n",
    "bonus = bonus.replace('fishing_l', 0.5/6000)\n",
    "bonus = bonus.replace('rod_fixing', 0)\n",
    "bonus.head(10)"
   ]
  },
  {
   "cell_type": "code",
   "execution_count": 22,
   "metadata": {},
   "outputs": [],
   "source": [
    "bonus = bonus.round(20)\n",
    "bonus['earning'] = bonus['price_displayed']*bonus['factor']*bonus['tap']\n",
    "pay = bonus.groupby(['id'])['earning'].sum().reset_index()\n",
    "pay['earning'] = np.ceil(pay['earning'])\n",
    "pay['prolific'] = [','.join(i) for i in zip(pay[\"id\"].map(str),pay[\"earning\"].astype(str))]\n",
    "pay\n",
    "pay.to_csv('prescreen_prolific_bonus.csv', sep = ',', encoding='utf-8')"
   ]
  },
  {
   "cell_type": "code",
   "execution_count": 25,
   "metadata": {},
   "outputs": [
    {
     "data": {
      "text/plain": [
       "count   20.000\n",
       "mean     5.000\n",
       "std      0.324\n",
       "min      4.000\n",
       "25%      5.000\n",
       "50%      5.000\n",
       "75%      5.000\n",
       "max      6.000\n",
       "Name: earning, dtype: float64"
      ]
     },
     "execution_count": 25,
     "metadata": {},
     "output_type": "execute_result"
    }
   ],
   "source": [
    "(pay.earning).describe()"
   ]
  },
  {
   "cell_type": "code",
   "execution_count": null,
   "metadata": {},
   "outputs": [],
   "source": []
  }
 ],
 "metadata": {
  "kernelspec": {
   "display_name": "Python 3",
   "language": "python",
   "name": "python3"
  },
  "language_info": {
   "codemirror_mode": {
    "name": "ipython",
    "version": 3
   },
   "file_extension": ".py",
   "mimetype": "text/x-python",
   "name": "python",
   "nbconvert_exporter": "python",
   "pygments_lexer": "ipython3",
   "version": "3.6.3"
  }
 },
 "nbformat": 4,
 "nbformat_minor": 2
}
