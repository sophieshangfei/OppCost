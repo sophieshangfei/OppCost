{
 "cells": [
  {
   "cell_type": "markdown",
   "metadata": {},
   "source": [
    "# Generate master data sets for further analysis. "
   ]
  },
  {
   "cell_type": "code",
   "execution_count": 160,
   "metadata": {},
   "outputs": [],
   "source": [
    "import pandas as pd\n",
    "import numpy as np\n",
    "import matplotlib.pyplot as plt\n",
    "import csv\n",
    "import json\n",
    "import seaborn as sns\n",
    "from sklearn import linear_model\n",
    "import sklearn as sk\n",
    "import statsmodels.api as sm\n",
    "from statsmodels.formula.api import ols\n",
    "from statsmodels.formula.api import mixedlm\n",
    "import statsmodels as sm\n",
    "from statsmodels.sandbox.regression.predstd import wls_prediction_std\n",
    "from scipy import stats as ss\n",
    "from scipy import stats\n",
    "import scipy.io as sio\n",
    "from statsmodels import robust\n",
    "from itertools import product\n",
    "import statsmodels.formula.api as smf\n",
    "%matplotlib inline"
   ]
  },
  {
   "cell_type": "code",
   "execution_count": 2,
   "metadata": {},
   "outputs": [],
   "source": [
    "#pip install statsmodels"
   ]
  },
  {
   "cell_type": "code",
   "execution_count": 3,
   "metadata": {},
   "outputs": [],
   "source": [
    "#get rid of scientific notation\n",
    "pd.set_option('display.float_format', lambda x: '%.3f' % x)"
   ]
  },
  {
   "cell_type": "markdown",
   "metadata": {},
   "source": [
    "# Data Quality Check"
   ]
  },
  {
   "cell_type": "markdown",
   "metadata": {},
   "source": [
    "## Demographics"
   ]
  },
  {
   "cell_type": "code",
   "execution_count": 4,
   "metadata": {},
   "outputs": [],
   "source": [
    "demographics = pd.read_csv('raw/data_exp_6138-v39_questionnaire-zk38.csv', sep = \",\")\n",
    "#demographics.head(15)\n",
    "# we asked them 7 questions in total"
   ]
  },
  {
   "cell_type": "code",
   "execution_count": 5,
   "metadata": {},
   "outputs": [],
   "source": [
    "demographics = demographics[demographics['Question Key'] != 'BEGIN QUESTIONNAIRE']\n",
    "demographics = demographics[demographics['Question Key'] != 'END QUESTIONNAIRE']\n",
    "demographics['id'] = demographics['Participant Private ID']\n",
    "demographics['question'] = demographics['Question Key']\n",
    "demographics['response'] = demographics['Response']\n",
    "demographics = demographics[['id', 'question', 'response']]"
   ]
  },
  {
   "cell_type": "code",
   "execution_count": 6,
   "metadata": {},
   "outputs": [],
   "source": [
    "d = pd.pivot_table(demographics, index = 'id', columns = 'question', values = 'response', aggfunc='first')\n",
    "d = d.reset_index()\n",
    "d.columns= ['id','age', 'confirmation_1', 'confirmation_2', 'gender', 'gender_numeric','handedness', 'handedness_numeric', 'degree', 'degree_numeric']\n"
   ]
  },
  {
   "cell_type": "code",
   "execution_count": 7,
   "metadata": {},
   "outputs": [
    {
     "data": {
      "text/plain": [
       "37.76"
      ]
     },
     "execution_count": 7,
     "metadata": {},
     "output_type": "execute_result"
    }
   ],
   "source": [
    "d['age'].astype(float).mean()"
   ]
  },
  {
   "cell_type": "code",
   "execution_count": 8,
   "metadata": {},
   "outputs": [
    {
     "data": {
      "text/plain": [
       "11.00148750273013"
      ]
     },
     "execution_count": 8,
     "metadata": {},
     "output_type": "execute_result"
    }
   ],
   "source": [
    "d['age'].astype(float).std()"
   ]
  },
  {
   "cell_type": "code",
   "execution_count": 9,
   "metadata": {},
   "outputs": [
    {
     "data": {
      "text/html": [
       "<div>\n",
       "<style scoped>\n",
       "    .dataframe tbody tr th:only-of-type {\n",
       "        vertical-align: middle;\n",
       "    }\n",
       "\n",
       "    .dataframe tbody tr th {\n",
       "        vertical-align: top;\n",
       "    }\n",
       "\n",
       "    .dataframe thead th {\n",
       "        text-align: right;\n",
       "    }\n",
       "</style>\n",
       "<table border=\"1\" class=\"dataframe\">\n",
       "  <thead>\n",
       "    <tr style=\"text-align: right;\">\n",
       "      <th></th>\n",
       "      <th>id</th>\n",
       "      <th>age</th>\n",
       "      <th>confirmation_1</th>\n",
       "      <th>confirmation_2</th>\n",
       "      <th>gender</th>\n",
       "      <th>gender_numeric</th>\n",
       "      <th>handedness</th>\n",
       "      <th>handedness_numeric</th>\n",
       "      <th>degree</th>\n",
       "      <th>degree_numeric</th>\n",
       "    </tr>\n",
       "    <tr>\n",
       "      <th>gender</th>\n",
       "      <th></th>\n",
       "      <th></th>\n",
       "      <th></th>\n",
       "      <th></th>\n",
       "      <th></th>\n",
       "      <th></th>\n",
       "      <th></th>\n",
       "      <th></th>\n",
       "      <th></th>\n",
       "      <th></th>\n",
       "    </tr>\n",
       "  </thead>\n",
       "  <tbody>\n",
       "    <tr>\n",
       "      <th>Female</th>\n",
       "      <td>48</td>\n",
       "      <td>25</td>\n",
       "      <td>1</td>\n",
       "      <td>1</td>\n",
       "      <td>1</td>\n",
       "      <td>1</td>\n",
       "      <td>2</td>\n",
       "      <td>2</td>\n",
       "      <td>4</td>\n",
       "      <td>4</td>\n",
       "    </tr>\n",
       "    <tr>\n",
       "      <th>Male</th>\n",
       "      <td>52</td>\n",
       "      <td>29</td>\n",
       "      <td>1</td>\n",
       "      <td>1</td>\n",
       "      <td>1</td>\n",
       "      <td>1</td>\n",
       "      <td>3</td>\n",
       "      <td>3</td>\n",
       "      <td>3</td>\n",
       "      <td>3</td>\n",
       "    </tr>\n",
       "  </tbody>\n",
       "</table>\n",
       "</div>"
      ],
      "text/plain": [
       "        id  age  confirmation_1  confirmation_2  gender  gender_numeric  \\\n",
       "gender                                                                    \n",
       "Female  48   25               1               1       1               1   \n",
       "Male    52   29               1               1       1               1   \n",
       "\n",
       "        handedness  handedness_numeric  degree  degree_numeric  \n",
       "gender                                                          \n",
       "Female           2                   2       4               4  \n",
       "Male             3                   3       3               3  "
      ]
     },
     "execution_count": 9,
     "metadata": {},
     "output_type": "execute_result"
    }
   ],
   "source": [
    "d.groupby('gender').nunique()"
   ]
  },
  {
   "cell_type": "code",
   "execution_count": 11,
   "metadata": {},
   "outputs": [],
   "source": [
    "d.to_csv('dataset/demographics_100.csv', sep = ',', encoding='utf-8')"
   ]
  },
  {
   "cell_type": "markdown",
   "metadata": {},
   "source": [
    "## Sound Check"
   ]
  },
  {
   "cell_type": "code",
   "execution_count": 12,
   "metadata": {},
   "outputs": [],
   "source": [
    "# do a quick check for sound\n",
    "sound = pd.read_csv('raw/data_exp_6138-v39_task-jgum.csv', sep = \",\")\n",
    "sound = sound.replace('null', np.nan)\n",
    "sound = sound.replace('nan', np.nan)"
   ]
  },
  {
   "cell_type": "code",
   "execution_count": 13,
   "metadata": {},
   "outputs": [],
   "source": [
    "sound = sound[np.isfinite(sound['button pressed'])]"
   ]
  },
  {
   "cell_type": "code",
   "execution_count": 14,
   "metadata": {},
   "outputs": [],
   "source": [
    "correct = [1, 0, 0]* 100"
   ]
  },
  {
   "cell_type": "code",
   "execution_count": 15,
   "metadata": {},
   "outputs": [],
   "source": [
    "s = (sound['button pressed'] == correct).reset_index(name = 'check')\n",
    "sound = sound.reset_index()\n",
    "sound = pd.merge(s[['index', 'check']], sound, on = 'index')\n",
    "sound_final= sound[['Participant Private ID','button pressed','check']]"
   ]
  },
  {
   "cell_type": "code",
   "execution_count": 16,
   "metadata": {},
   "outputs": [],
   "source": [
    "pd.set_option('display.max_columns', 300)\n",
    "pd.set_option('display.max_rows', None)\n",
    "#sound_final.head(300)"
   ]
  },
  {
   "cell_type": "markdown",
   "metadata": {},
   "source": [
    "## rod fixing count"
   ]
  },
  {
   "cell_type": "code",
   "execution_count": 17,
   "metadata": {},
   "outputs": [
    {
     "name": "stderr",
     "output_type": "stream",
     "text": [
      "/Library/Frameworks/Python.framework/Versions/3.6/lib/python3.6/site-packages/IPython/core/interactiveshell.py:3044: DtypeWarning: Columns (0) have mixed types. Specify dtype option on import or set low_memory=False.\n",
      "  interactivity=interactivity, compiler=compiler, result=result)\n"
     ]
    }
   ],
   "source": [
    "#import csv\n",
    "#2jau and 5e3j are low-high and high-low\n",
    "df1 = pd.read_csv('raw/data_exp_6138-v39_task-2jau.csv', sep = \",\") # high to low\n",
    "df2 = pd.read_csv('raw/data_exp_6138-v39_task-5e3j.csv', sep = \",\") # low to high"
   ]
  },
  {
   "cell_type": "code",
   "execution_count": 18,
   "metadata": {},
   "outputs": [],
   "source": [
    "#get rid of scientific notation\n",
    "pd.set_option('display.float_format', lambda x: '%.3f' % x)\n",
    "\n",
    "#replace all null and nan to the np.nan\n",
    "df1 = df1.replace('null', np.nan)\n",
    "df1 = df1.replace('nan', np.nan)\n",
    "df2 = df2.replace('null', np.nan)\n",
    "df2 = df2.replace('nan', np.nan)\n",
    "\n",
    "#turn object into floats and round them and rename them\n",
    "df1['end_time'] = round(df1['end_time'].astype(float))\n",
    "df1['start_time'] = round(df1['start_time'].astype(float))\n",
    "df1['builtin_rt'] = df1['builtin rt'].astype(float) #dont round up builtin reaction time\n",
    "df1['quality_check'] = df1['rod fixing checked'].astype(float)\n",
    "df1['id'] = df1['Participant Private ID']\n",
    "df1['function_id'] = df1['function id']\n",
    "df1['round_instance'] = df1['round instance']\n",
    "df1['trial_index'] = df1['index']\n",
    "df1['key_pressed'] = df1['key pressed']\n",
    "\n",
    "df2['end_time'] = round(df2['end_time'].astype(float))\n",
    "df2['start_time'] = round(df2['start_time'].astype(float))\n",
    "df2['builtin_rt'] = df2['builtin_rt'].astype(float) #dont round up builtin reaction time\n",
    "df2['quality_check'] = df2['rod fixing checked'].astype(float)\n",
    "df2['id'] = df2['Participant Private ID']\n",
    "df2['round_instance'] = df2['round_instance']\n",
    "df2['function_id'] = df2['function id']\n",
    "df2['trial_index'] = df2['index']\n",
    "df2['key_pressed'] = df2['key pressed']"
   ]
  },
  {
   "cell_type": "code",
   "execution_count": 19,
   "metadata": {},
   "outputs": [],
   "source": [
    "#select columns from df1 and df2\n",
    "data1 = df1[['trial_index','id','price_displayed', 'key pressed','environment', 'order', \n",
    "           'round_instance', 'task', 'function_id', 'quality_check', \n",
    "           'builtin_rt', 'end_time', 'start_time', 'Participant Public ID', 'key_pressed']]\n",
    "data2 = df2[['trial_index','id','price_displayed', 'key pressed','environment', 'order', \n",
    "           'round_instance', 'task', 'function_id', 'quality_check', \n",
    "           'builtin_rt', 'end_time', 'start_time', 'Participant Public ID', 'key_pressed']]"
   ]
  },
  {
   "cell_type": "code",
   "execution_count": 20,
   "metadata": {},
   "outputs": [
    {
     "name": "stderr",
     "output_type": "stream",
     "text": [
      "/Library/Frameworks/Python.framework/Versions/3.6/lib/python3.6/site-packages/ipykernel_launcher.py:1: SettingWithCopyWarning: \n",
      "A value is trying to be set on a copy of a slice from a DataFrame.\n",
      "Try using .loc[row_indexer,col_indexer] = value instead\n",
      "\n",
      "See the caveats in the documentation: http://pandas.pydata.org/pandas-docs/stable/indexing.html#indexing-view-versus-copy\n",
      "  \"\"\"Entry point for launching an IPython kernel.\n",
      "/Library/Frameworks/Python.framework/Versions/3.6/lib/python3.6/site-packages/ipykernel_launcher.py:2: SettingWithCopyWarning: \n",
      "A value is trying to be set on a copy of a slice from a DataFrame.\n",
      "Try using .loc[row_indexer,col_indexer] = value instead\n",
      "\n",
      "See the caveats in the documentation: http://pandas.pydata.org/pandas-docs/stable/indexing.html#indexing-view-versus-copy\n",
      "  \n"
     ]
    }
   ],
   "source": [
    "data1['order'] = ['high-low']*len(data1)\n",
    "data2['order'] = ['low-high']*len(data2)"
   ]
  },
  {
   "cell_type": "code",
   "execution_count": 21,
   "metadata": {},
   "outputs": [],
   "source": [
    "data = pd.concat([data1, data2])\n",
    "data.index.nunique()\n",
    "index_manual = list(range(0, len(data)))\n",
    "data['index'] = index_manual\n",
    "data = data.set_index('index')\n",
    "data = data[data.function_id != 'caller']\n",
    "data = data[pd.notnull(data['function_id'])]\n",
    "\n"
   ]
  },
  {
   "cell_type": "code",
   "execution_count": 22,
   "metadata": {},
   "outputs": [],
   "source": [
    "data_useful = data[(data.function_id == \"rod_fixing\")|(data.function_id == \"fishing_l\")|(data.function_id == \"fishing_h\")]\n",
    "data_useful = data_useful.sort_values(by = ['id', 'start_time'])\n"
   ]
  },
  {
   "cell_type": "code",
   "execution_count": 23,
   "metadata": {},
   "outputs": [],
   "source": [
    "data_useful['trial_label'] = data_useful[['trial_index', 'round_instance']].apply(lambda x: ' '.join(x.astype(str)), axis=1)\n"
   ]
  },
  {
   "cell_type": "code",
   "execution_count": 24,
   "metadata": {},
   "outputs": [],
   "source": [
    "d = data_useful.groupby(['id', 'round_instance'])['start_time'].diff().shift(-1).reset_index(name = 'latency')\n",
    "d = d.set_index('index')\n"
   ]
  },
  {
   "cell_type": "code",
   "execution_count": 25,
   "metadata": {},
   "outputs": [
    {
     "data": {
      "text/plain": [
       "3362"
      ]
     },
     "execution_count": 25,
     "metadata": {},
     "output_type": "execute_result"
    }
   ],
   "source": [
    "d.latency.isna().sum()"
   ]
  },
  {
   "cell_type": "code",
   "execution_count": 26,
   "metadata": {
    "scrolled": true
   },
   "outputs": [],
   "source": [
    "data_useful['latency'] = d['latency']\n",
    "data_useful= data_useful.sort_index().sort_values(['id', 'start_time'])\n",
    "#data_useful.head(400)"
   ]
  },
  {
   "cell_type": "markdown",
   "metadata": {},
   "source": [
    "### Ritiwk's codes"
   ]
  },
  {
   "cell_type": "code",
   "execution_count": 23,
   "metadata": {},
   "outputs": [],
   "source": [
    "#da = data_useful"
   ]
  },
  {
   "cell_type": "code",
   "execution_count": 94,
   "metadata": {},
   "outputs": [],
   "source": [
    "#for r_instance in da['round_instance'].unique():\n",
    "#    da.loc[da['round_instance'] == r_instance,'latency'] = da[da['round_instance']==r_instance].groupby('id')['start_time'].diff().shift(-1)\n",
    " "
   ]
  },
  {
   "cell_type": "code",
   "execution_count": 95,
   "metadata": {},
   "outputs": [],
   "source": [
    "#da['latency'].head(400)"
   ]
  },
  {
   "cell_type": "markdown",
   "metadata": {},
   "source": [
    "how are you calcualting the last latency? "
   ]
  },
  {
   "cell_type": "markdown",
   "metadata": {},
   "source": [
    "# Analysis"
   ]
  },
  {
   "cell_type": "markdown",
   "metadata": {},
   "source": [
    "### Discard the first spike"
   ]
  },
  {
   "cell_type": "code",
   "execution_count": 27,
   "metadata": {},
   "outputs": [],
   "source": [
    "def mask_first(x):\n",
    "    \"\"\"\n",
    "    get rid of the first spike by creating a mask of 0, 1, 1, 1, ...\n",
    "    \"\"\"\n",
    "    result = np.ones_like(x)\n",
    "    result[0] = 0\n",
    "    return result"
   ]
  },
  {
   "cell_type": "markdown",
   "metadata": {},
   "source": [
    "make a copy of the original data file"
   ]
  },
  {
   "cell_type": "code",
   "execution_count": 28,
   "metadata": {},
   "outputs": [],
   "source": [
    "data_original = data_useful"
   ]
  },
  {
   "cell_type": "code",
   "execution_count": 29,
   "metadata": {},
   "outputs": [],
   "source": [
    "mask = data_useful.groupby(['id', 'price_displayed', 'trial_index'])['trial_index'].transform(mask_first).astype(bool)\n",
    "data_useful = data_useful.loc[mask]\n",
    "# now we got rid of the first spike of fishing and rod fixing"
   ]
  },
  {
   "cell_type": "markdown",
   "metadata": {},
   "source": [
    "## Fishing Data"
   ]
  },
  {
   "cell_type": "code",
   "execution_count": 30,
   "metadata": {},
   "outputs": [],
   "source": [
    "data_fish = data_useful[(data_useful.function_id == \"fishing_l\")|(data_useful.function_id == \"fishing_h\")]"
   ]
  },
  {
   "cell_type": "code",
   "execution_count": 31,
   "metadata": {},
   "outputs": [
    {
     "data": {
      "text/plain": [
       "320780"
      ]
     },
     "execution_count": 31,
     "metadata": {},
     "output_type": "execute_result"
    }
   ],
   "source": [
    "len(data_fish)"
   ]
  },
  {
   "cell_type": "code",
   "execution_count": 32,
   "metadata": {},
   "outputs": [],
   "source": [
    "data_fish.to_csv('dataset/fish_100.csv', sep = ',', encoding='utf-8')"
   ]
  },
  {
   "cell_type": "markdown",
   "metadata": {},
   "source": [
    "## Rod Fixing Data"
   ]
  },
  {
   "cell_type": "code",
   "execution_count": 33,
   "metadata": {},
   "outputs": [],
   "source": [
    "data_rod = data_original[(data_original.function_id == \"rod_fixing\")]"
   ]
  },
  {
   "cell_type": "code",
   "execution_count": 34,
   "metadata": {},
   "outputs": [],
   "source": [
    "mask = data_rod.groupby(['id', 'trial_label'])['trial_label'].transform(mask_first).astype(bool)\n",
    "data_rod = data_rod.loc[mask]\n"
   ]
  },
  {
   "cell_type": "code",
   "execution_count": 35,
   "metadata": {},
   "outputs": [
    {
     "data": {
      "text/plain": [
       "7734"
      ]
     },
     "execution_count": 35,
     "metadata": {},
     "output_type": "execute_result"
    }
   ],
   "source": [
    "len(data_rod)"
   ]
  },
  {
   "cell_type": "code",
   "execution_count": 36,
   "metadata": {},
   "outputs": [],
   "source": [
    "data_rod.to_csv('dataset/rod_100_no_first_spike.csv', sep = ',', encoding='utf-8')"
   ]
  },
  {
   "cell_type": "markdown",
   "metadata": {},
   "source": [
    "# Questionnaires"
   ]
  },
  {
   "cell_type": "code",
   "execution_count": 37,
   "metadata": {},
   "outputs": [],
   "source": [
    "def extract_choice(ser):\n",
    "    choice = []\n",
    "    for s in ser:\n",
    "        c = 0\n",
    "        while c < len(s):\n",
    "            r = json.loads(s[c])\n",
    "            for key in r.keys():\n",
    "                choice.append(r[key])\n",
    "            c = c + 1\n",
    "    return choice"
   ]
  },
  {
   "cell_type": "markdown",
   "metadata": {},
   "source": [
    "## AMI"
   ]
  },
  {
   "cell_type": "code",
   "execution_count": 106,
   "metadata": {},
   "outputs": [],
   "source": [
    "# import AMI\n",
    "AMI = pd.read_csv('raw/data_exp_6138-v39_task-j8g3.csv', sep = \",\")\n",
    "#AMI"
   ]
  },
  {
   "cell_type": "code",
   "execution_count": 107,
   "metadata": {},
   "outputs": [],
   "source": [
    "AMI_group = AMI.groupby([\"Participant Private ID\"])['choice made'].apply(list).reset_index()\n",
    "# response = AMI_group['choice made'][0]\n",
    "choice = extract_choice(AMI_group['choice made'])\n",
    "AMI_group = AMI_group.loc[AMI_group.index.repeat(19)] #repeat no of questions times"
   ]
  },
  {
   "cell_type": "code",
   "execution_count": 108,
   "metadata": {},
   "outputs": [],
   "source": [
    "AMI_group['choice'] = choice\n",
    "AMI_group['question_number'] = [1, 2, 3, 4, 5, 6, 7, 8, 9, 10, 11, 12, 13, 14, 15, 16, 17, 18, 19]*100"
   ]
  },
  {
   "cell_type": "code",
   "execution_count": 109,
   "metadata": {},
   "outputs": [
    {
     "name": "stderr",
     "output_type": "stream",
     "text": [
      "/Library/Frameworks/Python.framework/Versions/3.6/lib/python3.6/site-packages/ipykernel_launcher.py:1: SettingWithCopyWarning: \n",
      "A value is trying to be set on a copy of a slice from a DataFrame\n",
      "\n",
      "See the caveats in the documentation: http://pandas.pydata.org/pandas-docs/stable/indexing.html#indexing-view-versus-copy\n",
      "  \"\"\"Entry point for launching an IPython kernel.\n",
      "/Library/Frameworks/Python.framework/Versions/3.6/lib/python3.6/site-packages/ipykernel_launcher.py:2: SettingWithCopyWarning: \n",
      "A value is trying to be set on a copy of a slice from a DataFrame\n",
      "\n",
      "See the caveats in the documentation: http://pandas.pydata.org/pandas-docs/stable/indexing.html#indexing-view-versus-copy\n",
      "  \n",
      "/Library/Frameworks/Python.framework/Versions/3.6/lib/python3.6/site-packages/ipykernel_launcher.py:3: SettingWithCopyWarning: \n",
      "A value is trying to be set on a copy of a slice from a DataFrame\n",
      "\n",
      "See the caveats in the documentation: http://pandas.pydata.org/pandas-docs/stable/indexing.html#indexing-view-versus-copy\n",
      "  This is separate from the ipykernel package so we can avoid doing imports until\n",
      "/Library/Frameworks/Python.framework/Versions/3.6/lib/python3.6/site-packages/ipykernel_launcher.py:4: SettingWithCopyWarning: \n",
      "A value is trying to be set on a copy of a slice from a DataFrame\n",
      "\n",
      "See the caveats in the documentation: http://pandas.pydata.org/pandas-docs/stable/indexing.html#indexing-view-versus-copy\n",
      "  after removing the cwd from sys.path.\n",
      "/Library/Frameworks/Python.framework/Versions/3.6/lib/python3.6/site-packages/ipykernel_launcher.py:5: SettingWithCopyWarning: \n",
      "A value is trying to be set on a copy of a slice from a DataFrame\n",
      "\n",
      "See the caveats in the documentation: http://pandas.pydata.org/pandas-docs/stable/indexing.html#indexing-view-versus-copy\n",
      "  \"\"\"\n"
     ]
    }
   ],
   "source": [
    "AMI_group.choice[AMI_group.choice == \"Completely UNTRUE\"] = 4\n",
    "AMI_group.choice[AMI_group.choice == \"Mostly untrue\"] = 3\n",
    "AMI_group.choice[AMI_group.choice == \"Neither true nor untrue\"] = 2\n",
    "AMI_group.choice[AMI_group.choice == \"Quite true\"] = 1\n",
    "AMI_group.choice[AMI_group.choice == \"Completely TRUE\"] = 0"
   ]
  },
  {
   "cell_type": "code",
   "execution_count": 110,
   "metadata": {},
   "outputs": [],
   "source": [
    "# by taking the mean rating of the items within the subscale.\n",
    "# bAMI = questions [5 9 10 11 12 16]\n",
    "# sAMI = questions [2 3 4  8  15 18]\n",
    "# eAMI = questions [1 6 7  14 17 19]\n",
    "# trick_question = 13\n",
    "# tAMI = sum\n",
    "bAMI = AMI_group[(AMI_group.question_number == 5)|(AMI_group.question_number == 9)|(AMI_group.question_number == 10)|(AMI_group.question_number == 11)|(AMI_group.question_number == 12)|(AMI_group.question_number == 16)]\n",
    "sAMI = AMI_group[(AMI_group.question_number == 2)|(AMI_group.question_number == 3)|(AMI_group.question_number == 4)|(AMI_group.question_number == 8)|(AMI_group.question_number == 15)|(AMI_group.question_number == 18)]\n",
    "eAMI = AMI_group[(AMI_group.question_number == 1)|(AMI_group.question_number == 6)|(AMI_group.question_number == 7)|(AMI_group.question_number == 14)|(AMI_group.question_number == 17)|(AMI_group.question_number == 19)]\n",
    "trick_AMI = AMI_group[(AMI_group.question_number == 13)]\n",
    "bAMI = bAMI.groupby(['Participant Private ID'])['choice'].sum().reset_index()\n",
    "bAMI.columns = ['id', 'bAMI']\n",
    "bAMI['score'] = bAMI['bAMI']/6\n",
    "sAMI = sAMI.groupby(['Participant Private ID'])['choice'].sum().reset_index()\n",
    "sAMI.columns = ['id', 'sAMI']\n",
    "sAMI['score'] = sAMI['sAMI']/6\n",
    "eAMI = eAMI.groupby(['Participant Private ID'])['choice'].sum().reset_index()\n",
    "eAMI.columns = ['id', 'eAMI']\n",
    "eAMI['score'] = eAMI['eAMI']/6\n",
    "AMI_final = {'id': bAMI['id'], 'bAMI': bAMI['score'], 'sAMI': sAMI['score'], 'eAMI': eAMI['score']}\n",
    "AMI_final = pd.DataFrame(data=AMI_final)\n",
    "AMI_final['tAMI'] = (bAMI['score'] + sAMI['score'] + eAMI['score'])/3"
   ]
  },
  {
   "cell_type": "code",
   "execution_count": 111,
   "metadata": {},
   "outputs": [],
   "source": [
    "AMI_prunned = AMI_final[AMI_final['id'] != 668262.0] #failed sound check\n",
    "AMI_prunned = AMI_prunned[AMI_prunned['id'] != 675528.0] #failed sound check\n",
    "AMI_prunned = AMI_prunned[AMI_prunned['id'] != 675577.0] #failed sound check\n",
    "AMI_prunned = AMI_prunned[AMI_prunned['id'] != 680119.0] #failed sound check\n",
    "AMI_prunned = AMI_prunned[AMI_prunned['id'] != 672593.0] #missing high fix\n",
    "AMI_prunned = AMI_prunned[AMI_prunned['id'] != 683242.0] # only tapped 7 times \n",
    "                                                                           # in the low value env \n",
    "                                                                           # -> massive outlier in the data"
   ]
  },
  {
   "cell_type": "code",
   "execution_count": 112,
   "metadata": {},
   "outputs": [
    {
     "data": {
      "text/plain": [
       "count   94.000\n",
       "mean     9.819\n",
       "std      4.754\n",
       "min      1.000\n",
       "25%      7.000\n",
       "50%      9.000\n",
       "75%     12.000\n",
       "max     23.000\n",
       "Name: bAMI, dtype: float64"
      ]
     },
     "execution_count": 112,
     "metadata": {},
     "output_type": "execute_result"
    }
   ],
   "source": [
    "(AMI_prunned['bAMI']*6).describe()"
   ]
  },
  {
   "cell_type": "code",
   "execution_count": 113,
   "metadata": {},
   "outputs": [
    {
     "data": {
      "text/plain": [
       "14.573"
      ]
     },
     "execution_count": 113,
     "metadata": {},
     "output_type": "execute_result"
    }
   ],
   "source": [
    "9.819 +4.754"
   ]
  },
  {
   "cell_type": "code",
   "execution_count": 114,
   "metadata": {},
   "outputs": [
    {
     "data": {
      "image/png": "[encoded data removed]",
      "text/plain": [
       "<Figure size 432x288 with 1 Axes>"
      ]
     },
     "metadata": {
      "needs_background": "light"
     },
     "output_type": "display_data"
    }
   ],
   "source": [
    "sns.distplot(AMI_prunned['bAMI']*6)\n",
    "plt.title('online bAMI')\n",
    "plt.axvline(x = 9.819, color = 'black', label = 'mean = 9.819')\n",
    "plt.axvline(x = 14.573, color = 'purple', label = '1SD = 4.754')\n",
    "plt.axvline(x = 19.327, color = 'green', label = '2SD')\n",
    "plt.legend(loc = 1)\n",
    "plt.savefig('figure/online_bAMI_100.png', dpi = 300)"
   ]
  },
  {
   "cell_type": "code",
   "execution_count": 115,
   "metadata": {},
   "outputs": [],
   "source": [
    "AMI_final.to_csv('dataset/AMI_100.csv', sep = ',', encoding='utf-8')"
   ]
  },
  {
   "cell_type": "markdown",
   "metadata": {},
   "source": [
    "## HADS"
   ]
  },
  {
   "cell_type": "markdown",
   "metadata": {},
   "source": [
    "### add 668245 to the dataset as nan"
   ]
  },
  {
   "cell_type": "code",
   "execution_count": 116,
   "metadata": {},
   "outputs": [],
   "source": [
    "# import HAD\n",
    "HADS = pd.read_csv('raw/data_exp_6138-v39_task-w8es.csv', sep = \",\")\n",
    "HADS.drop(HADS.tail(1).index,inplace=True)\n",
    "HADS = HADS[HADS['Participant Private ID'] != 668245] # twice"
   ]
  },
  {
   "cell_type": "code",
   "execution_count": 117,
   "metadata": {},
   "outputs": [],
   "source": [
    "HADS_group = HADS.groupby([\"Participant Private ID\"])['choice made'].apply(list).reset_index()\n",
    "choice = extract_choice(HADS_group['choice made'])\n",
    "HADS_group = HADS_group.loc[HADS_group.index.repeat(15)]\n"
   ]
  },
  {
   "cell_type": "code",
   "execution_count": 118,
   "metadata": {},
   "outputs": [
    {
     "data": {
      "text/plain": [
       "99"
      ]
     },
     "execution_count": 118,
     "metadata": {},
     "output_type": "execute_result"
    }
   ],
   "source": [
    "len(HADS_group[\"Participant Private ID\"].unique())"
   ]
  },
  {
   "cell_type": "code",
   "execution_count": 119,
   "metadata": {},
   "outputs": [],
   "source": [
    "HADS_group['choice'] = choice\n",
    "HADS_group['question_number'] = [1, 2, 3, 4, 5, 6, 7, 8, 9, 10, 11, 12, 13, 14, 15]*99"
   ]
  },
  {
   "cell_type": "code",
   "execution_count": 120,
   "metadata": {},
   "outputs": [],
   "source": [
    "# question 12 is the trick question\n",
    "HADS_group['scale'] = [{\"Most of the time\" : 3, \"A lot of the time\": 2, \"From time to time, occasionally\" : 1, \"Not at all\":0},\n",
    "                      {\"Nearly all the time\": 3, \"Very often\": 2, \"Sometimes\": 1, \"Not at all\":0},\n",
    "                      {\"Definitely as much\":0, \"Not quite so much\":1, \"Only a little\":2, \"Hardly at all\":3},\n",
    "                      {\"Not at all\":0, \"Occasionally\":1, \"Quite Often\":2, \"Very Often\":3},\n",
    "                      {\"Very definitely and quite badly\":3, \"Yes, but not too badly\":2, \"A little, but it doesn't worry me\":1, \"Not at all\":0},\n",
    "                      {\"Definitely\":3, \"I don't take as much care as I should\":2,\"I may not take quite as much care\":1, \"I take just as much care as ever\":0},\n",
    "                      {\"As much as I always could\":0, \"Not quite so much now\":1, \"Definitely not so much now\":2, \"Not at all\":3},\n",
    "                      {\"Very much indeed\":3, \"Quite a lot\":2,\"Not very much\":1, \"Not at all\":0},\n",
    "                      {\"A great deal of the time\":3, \"A lot of the time\":2, \"From time to time, but not too often\":1,\"Only occasionally\":0},\n",
    "                      {\"As much as I ever did\":0, \"Rather less than I used to\":1, \"Definitely less than I used to\":2, \"Hardly at all\":3},\n",
    "                      {\"Not at all\":3, \"Not often\":2,\"Sometimes\":1, \"Most of the time\":0},\n",
    "                      {\"Not at all\":3, \"Not often\":2,\"Sometimes\":1, \"Most of the time\":0},\n",
    "                      {\"Very often indeed\":3, \"Quite often\":2,\"Not very often\":1, \"Not at all\":0},\n",
    "                      {\"Definitely\":0, \"Usually\":1, \"Not Often\":2,\"Not at all\":3},\n",
    "                      {\"Often\":0, \"Sometimes\":1,\"Not often\":2, \"Very seldom\":3}]*99"
   ]
  },
  {
   "cell_type": "code",
   "execution_count": 121,
   "metadata": {},
   "outputs": [],
   "source": [
    "# 1, 2, 3, 4, 5, 6, 7, 8, 9, 10, 11, 12,    13, 14, 15\n",
    "# A, D, D, A, A, D, D, A, A, D,   D,  trick, A,  A, D\n",
    "\n",
    "# anxiety =  [1, 4, 5, 8, 9, 13, 14]\n",
    "# depression = [2, 3, 6, 7, 10, 11, 15]\n",
    "\n",
    "value = []\n",
    "for index, row in HADS_group.iterrows():\n",
    "    d = row[\"scale\"]\n",
    "    k = row['choice']\n",
    "    value.append(d[k])\n",
    "HADS_group['value'] = value\n",
    "\n",
    "depression = HADS_group[(HADS_group.question_number == 2)|(HADS_group.question_number == 3)|(HADS_group.question_number == 6)|(HADS_group.question_number == 7)|(HADS_group.question_number == 10)|(HADS_group.question_number == 11)|(HADS_group.question_number == 15)]\n",
    "anxiety = HADS_group[(HADS_group.question_number == 1)|(HADS_group.question_number == 4)|(HADS_group.question_number == 5)|(HADS_group.question_number == 8)|(HADS_group.question_number == 9)|(HADS_group.question_number == 13)|(HADS_group.question_number == 14)]\n",
    "trick = HADS_group[(HADS_group.question_number == 12)]"
   ]
  },
  {
   "cell_type": "code",
   "execution_count": 122,
   "metadata": {},
   "outputs": [],
   "source": [
    "depression = depression.groupby(['Participant Private ID'])['value'].sum().reset_index()\n",
    "depression.columns = ['id', 'depression']\n",
    "anxiety = anxiety.groupby(['Participant Private ID'])['value'].sum().reset_index()\n",
    "anxiety.columns = ['id', 'anxiety']\n",
    "#HAD_group.head(5)"
   ]
  },
  {
   "cell_type": "code",
   "execution_count": 123,
   "metadata": {},
   "outputs": [],
   "source": [
    "HADS_final = {'id': anxiety['id'], 'anxiety': anxiety['anxiety'], 'depression': depression['depression']}\n",
    "HADS_final = pd.DataFrame(data=HADS_final)\n",
    "HADS_final['tHADS'] = anxiety['anxiety'] + depression['depression']\n",
    "HADS_final.loc[-1] = [668245, np.nan, np.nan,  np.nan]\n",
    "\n",
    "HADS_final.to_csv('dataset/HADS_100.csv', sep = ',', encoding='utf-8')"
   ]
  },
  {
   "cell_type": "code",
   "execution_count": 124,
   "metadata": {},
   "outputs": [],
   "source": [
    "HADS_prunned = HADS_final[HADS_final['id'] != 668262.0] #failed sound check\n",
    "HADS_prunned = HADS_prunned[HADS_prunned['id'] != 675528.0] #failed sound check\n",
    "HADS_prunned = HADS_prunned[HADS_prunned['id'] != 675577.0] #failed sound check\n",
    "HADS_prunned = HADS_prunned[HADS_prunned['id'] != 680119.0] #failed sound check\n",
    "HADS_prunned = HADS_prunned[HADS_prunned['id'] != 672593.0] #missing high fix\n",
    "HADS_prunned = HADS_prunned[HADS_prunned['id'] != 683242.0] # only tapped 7 times \n",
    "                                                                           # in the low value env \n",
    "                                                                           # -> massive outlier in the data"
   ]
  },
  {
   "cell_type": "markdown",
   "metadata": {},
   "source": [
    "## Baratt"
   ]
  },
  {
   "cell_type": "code",
   "execution_count": 125,
   "metadata": {},
   "outputs": [],
   "source": [
    "# import Baratt\n",
    "barrat = pd.read_csv('raw/data_exp_6138-v39_task-df75.csv', sep = \",\")\n",
    "barrat.drop(barrat.tail(1).index,inplace=True)"
   ]
  },
  {
   "cell_type": "code",
   "execution_count": 126,
   "metadata": {},
   "outputs": [],
   "source": [
    "barrat_group = barrat.groupby([\"Participant Private ID\"])['choice made'].apply(list).reset_index()\n",
    "choice = extract_choice(barrat_group['choice made'])\n",
    "barrat_group = barrat_group.loc[barrat_group.index.repeat(31)]"
   ]
  },
  {
   "cell_type": "code",
   "execution_count": 127,
   "metadata": {},
   "outputs": [],
   "source": [
    "barrat_group['choice'] = choice\n",
    "barrat_group['question_number'] = [1, 2, 3, 4, 5, 6, 7, 8, 9, 10, 11, 12, 13, 14, 15, 16, 17, 18,\n",
    "                                  19, 20, 21,22, 23, 24, 25, 26, 27, 28, 29, 30, 31]*100"
   ]
  },
  {
   "cell_type": "code",
   "execution_count": 128,
   "metadata": {},
   "outputs": [
    {
     "name": "stderr",
     "output_type": "stream",
     "text": [
      "/Library/Frameworks/Python.framework/Versions/3.6/lib/python3.6/site-packages/ipykernel_launcher.py:2: SettingWithCopyWarning: \n",
      "A value is trying to be set on a copy of a slice from a DataFrame\n",
      "\n",
      "See the caveats in the documentation: http://pandas.pydata.org/pandas-docs/stable/indexing.html#indexing-view-versus-copy\n",
      "  \n",
      "/Library/Frameworks/Python.framework/Versions/3.6/lib/python3.6/site-packages/ipykernel_launcher.py:3: SettingWithCopyWarning: \n",
      "A value is trying to be set on a copy of a slice from a DataFrame\n",
      "\n",
      "See the caveats in the documentation: http://pandas.pydata.org/pandas-docs/stable/indexing.html#indexing-view-versus-copy\n",
      "  This is separate from the ipykernel package so we can avoid doing imports until\n",
      "/Library/Frameworks/Python.framework/Versions/3.6/lib/python3.6/site-packages/ipykernel_launcher.py:4: SettingWithCopyWarning: \n",
      "A value is trying to be set on a copy of a slice from a DataFrame\n",
      "\n",
      "See the caveats in the documentation: http://pandas.pydata.org/pandas-docs/stable/indexing.html#indexing-view-versus-copy\n",
      "  after removing the cwd from sys.path.\n",
      "/Library/Frameworks/Python.framework/Versions/3.6/lib/python3.6/site-packages/ipykernel_launcher.py:5: SettingWithCopyWarning: \n",
      "A value is trying to be set on a copy of a slice from a DataFrame\n",
      "\n",
      "See the caveats in the documentation: http://pandas.pydata.org/pandas-docs/stable/indexing.html#indexing-view-versus-copy\n",
      "  \"\"\"\n"
     ]
    }
   ],
   "source": [
    "reverse_barrat = barrat_group[barrat_group['question_number'].isin([9, 21,31, 1, 7, 8, 13, 14, 10, 16, 30])]\n",
    "reverse_barrat.choice[reverse_barrat.choice == \"Rarely/Never\"] = 4\n",
    "reverse_barrat.choice[reverse_barrat.choice == \"Occasionally\"] = 3\n",
    "reverse_barrat.choice[reverse_barrat.choice == \"Often\"] = 2\n",
    "reverse_barrat.choice[reverse_barrat.choice == \"Almost always/Always\"] = 1"
   ]
  },
  {
   "cell_type": "code",
   "execution_count": 129,
   "metadata": {},
   "outputs": [],
   "source": [
    "# trick question\n",
    "trick_barrat = barrat_group[barrat_group['question_number']==12]"
   ]
  },
  {
   "cell_type": "code",
   "execution_count": 130,
   "metadata": {},
   "outputs": [
    {
     "name": "stderr",
     "output_type": "stream",
     "text": [
      "/Library/Frameworks/Python.framework/Versions/3.6/lib/python3.6/site-packages/ipykernel_launcher.py:3: SettingWithCopyWarning: \n",
      "A value is trying to be set on a copy of a slice from a DataFrame\n",
      "\n",
      "See the caveats in the documentation: http://pandas.pydata.org/pandas-docs/stable/indexing.html#indexing-view-versus-copy\n",
      "  This is separate from the ipykernel package so we can avoid doing imports until\n",
      "/Library/Frameworks/Python.framework/Versions/3.6/lib/python3.6/site-packages/ipykernel_launcher.py:4: SettingWithCopyWarning: \n",
      "A value is trying to be set on a copy of a slice from a DataFrame\n",
      "\n",
      "See the caveats in the documentation: http://pandas.pydata.org/pandas-docs/stable/indexing.html#indexing-view-versus-copy\n",
      "  after removing the cwd from sys.path.\n",
      "/Library/Frameworks/Python.framework/Versions/3.6/lib/python3.6/site-packages/ipykernel_launcher.py:5: SettingWithCopyWarning: \n",
      "A value is trying to be set on a copy of a slice from a DataFrame\n",
      "\n",
      "See the caveats in the documentation: http://pandas.pydata.org/pandas-docs/stable/indexing.html#indexing-view-versus-copy\n",
      "  \"\"\"\n"
     ]
    }
   ],
   "source": [
    "barrat_group = barrat_group[barrat_group['question_number'].isin([5,11,29, 6, 25, 27, 2, 3, 4, 18, 20, 23, 26, 17, 22, 24,15, 19, 29])]\n",
    "barrat_group.choice[barrat_group.choice == \"Rarely/Never\"] = 1\n",
    "barrat_group.choice[barrat_group.choice == \"Occasionally\"] = 2\n",
    "barrat_group.choice[barrat_group.choice == \"Often\"] = 3\n",
    "barrat_group.choice[barrat_group.choice == \"Almost always/Always\"] = 4"
   ]
  },
  {
   "cell_type": "markdown",
   "metadata": {},
   "source": [
    "### Calculate impulsivity score"
   ]
  },
  {
   "cell_type": "code",
   "execution_count": 131,
   "metadata": {},
   "outputs": [],
   "source": [
    "barrat_group = pd.concat([barrat_group,reverse_barrat,trick_barrat])"
   ]
  },
  {
   "cell_type": "code",
   "execution_count": 132,
   "metadata": {},
   "outputs": [],
   "source": [
    "# trick 12\n",
    "\n",
    "# attentional =  [5, 9*, 11, 21*, 29, 6, 25, 27]\n",
    "# attention = [5, 9*, 11, 21*, 29]\n",
    "# Cognitive Instability = [6, 25, 27]\n",
    "# motor = [2, 3, 4, 18, 20, 23, 26, 17, 22, 24, 31*]\n",
    "# Motor = [2, 3, 4, 18, 20, 23, 26]\n",
    "# Perseverance = [17, 22, 24, 31*]\n",
    "# Nonplanning = [1*, 7*, 8*, 13*, 14*, 15, 10*, 16*, 19, 29, 30*]\n",
    "# Self-Control = [1*, 7*, 8*, 13*, 14*, 15]\n",
    "# Cognitive Complexity = [10*, 16*, 19, 28, 30*]\n",
    "attention = barrat_group[(barrat_group.question_number == 5)|(barrat_group.question_number == 9)|(barrat_group.question_number == 11)|(barrat_group.question_number == 21)|(barrat_group.question_number == 29)]\n",
    "cognitive_instable = barrat_group[(barrat_group.question_number == 6)|(barrat_group.question_number == 25)|(barrat_group.question_number == 27)]\n",
    "motor = barrat_group[(barrat_group.question_number == 2)|(barrat_group.question_number == 3)|(barrat_group.question_number == 4)|(barrat_group.question_number == 18)|\n",
    "                     (barrat_group.question_number == 20)|(barrat_group.question_number == 23)|(barrat_group.question_number == 26)]\n",
    "perseverance = barrat_group[(barrat_group.question_number == 17)|(barrat_group .question_number == 22)|(barrat_group.question_number == 24)|(barrat_group.question_number == 31)]\n",
    "self_control = barrat_group[(barrat_group.question_number == 1)|(barrat_group.question_number == 7)|(barrat_group.question_number == 8)|(barrat_group.question_number == 13)|(barrat_group.question_number == 14)|(barrat_group.question_number == 15)]\n",
    "cognitive_complexity = barrat_group[(barrat_group.question_number == 10)|(barrat_group.question_number == 16)|(barrat_group.question_number == 19)|(barrat_group.question_number == 28)|(barrat_group.question_number == 30)]\n",
    "trick = barrat_group[barrat_group.question_number == 12]\n",
    "\n"
   ]
  },
  {
   "cell_type": "code",
   "execution_count": 133,
   "metadata": {},
   "outputs": [],
   "source": [
    "#trick\n",
    "#668249, 672614, 675732, 672593"
   ]
  },
  {
   "cell_type": "code",
   "execution_count": 134,
   "metadata": {},
   "outputs": [],
   "source": [
    "attention = attention.groupby(['Participant Private ID'])['choice'].sum().reset_index()\n",
    "attention.columns = ['id', 'attention']\n",
    "cognitive_instable = cognitive_instable.groupby(['Participant Private ID'])['choice'].sum().reset_index()\n",
    "cognitive_instable.columns = ['id', 'cognitive_instable']\n",
    "motor = motor.groupby(['Participant Private ID'])['choice'].sum().reset_index()\n",
    "motor.columns = ['id', 'motor']\n",
    "perseverance = perseverance.groupby(['Participant Private ID'])['choice'].sum().reset_index()\n",
    "perseverance.columns = ['id', 'perseverance']\n",
    "self_control = self_control.groupby(['Participant Private ID'])['choice'].sum().reset_index()\n",
    "self_control.columns = ['id', 'self_control']\n",
    "cognitive_complexity = cognitive_complexity.groupby(['Participant Private ID'])['choice'].sum().reset_index()\n",
    "cognitive_complexity.columns = ['id', 'cognitive_complexity']"
   ]
  },
  {
   "cell_type": "code",
   "execution_count": 135,
   "metadata": {},
   "outputs": [],
   "source": [
    "barrat_final = {'id': attention['id'], 'attention': attention['attention'], \n",
    "                'cognitive_instable': cognitive_instable['cognitive_instable'],\n",
    "               'motor': motor['motor'],\n",
    "               'perseverance': perseverance['perseverance'],\n",
    "               'self_control': self_control['self_control'],\n",
    "               'cognitive_complexity': cognitive_complexity['cognitive_complexity']}\n",
    "barrat_final = pd.DataFrame(data=barrat_final)\n",
    "barrat_final['attentional'] = attention['attention'] + cognitive_instable['cognitive_instable']\n",
    "barrat_final['motor_0'] = motor['motor'] + perseverance['perseverance']\n",
    "barrat_final['nonplanning'] = self_control['self_control'] + cognitive_complexity['cognitive_complexity']\n",
    "barrat_final['impulsivity'] = barrat_final['attentional'] + barrat_final['motor_0'] + barrat_final['nonplanning']\n"
   ]
  },
  {
   "cell_type": "code",
   "execution_count": 136,
   "metadata": {},
   "outputs": [],
   "source": [
    "barrat_final.to_csv('dataset/barrat_100.csv', sep = ',', encoding='utf-8')"
   ]
  },
  {
   "cell_type": "markdown",
   "metadata": {},
   "source": [
    "## Pleasure"
   ]
  },
  {
   "cell_type": "code",
   "execution_count": 137,
   "metadata": {},
   "outputs": [],
   "source": [
    "# import pleasure\n",
    "pleasure = pd.read_csv('raw/data_exp_6138-v39_task-uvof.csv', sep = \",\")\n",
    "pleasure.drop(pleasure.tail(1).index,inplace=True)"
   ]
  },
  {
   "cell_type": "code",
   "execution_count": 138,
   "metadata": {},
   "outputs": [],
   "source": [
    "pleasure_group = pleasure.groupby([\"Participant Private ID\"])['choice made'].apply(list).reset_index()\n",
    "choice = extract_choice(pleasure_group['choice made'])\n",
    "pleasure_group = pleasure_group.loc[pleasure_group.index.repeat(15)]"
   ]
  },
  {
   "cell_type": "code",
   "execution_count": 139,
   "metadata": {},
   "outputs": [],
   "source": [
    "pleasure_group['choice'] = choice\n",
    "pleasure_group['question_number'] = [1, 2, 3, 4, 5, 6, 7, 8, 9, 10, 11, 12, 13, 14, 15]*100"
   ]
  },
  {
   "cell_type": "code",
   "execution_count": 140,
   "metadata": {},
   "outputs": [
    {
     "name": "stderr",
     "output_type": "stream",
     "text": [
      "/Library/Frameworks/Python.framework/Versions/3.6/lib/python3.6/site-packages/ipykernel_launcher.py:5: SettingWithCopyWarning: \n",
      "A value is trying to be set on a copy of a slice from a DataFrame\n",
      "\n",
      "See the caveats in the documentation: http://pandas.pydata.org/pandas-docs/stable/indexing.html#indexing-view-versus-copy\n",
      "  \"\"\"\n",
      "/Library/Frameworks/Python.framework/Versions/3.6/lib/python3.6/site-packages/ipykernel_launcher.py:6: SettingWithCopyWarning: \n",
      "A value is trying to be set on a copy of a slice from a DataFrame\n",
      "\n",
      "See the caveats in the documentation: http://pandas.pydata.org/pandas-docs/stable/indexing.html#indexing-view-versus-copy\n",
      "  \n",
      "/Library/Frameworks/Python.framework/Versions/3.6/lib/python3.6/site-packages/ipykernel_launcher.py:7: SettingWithCopyWarning: \n",
      "A value is trying to be set on a copy of a slice from a DataFrame\n",
      "\n",
      "See the caveats in the documentation: http://pandas.pydata.org/pandas-docs/stable/indexing.html#indexing-view-versus-copy\n",
      "  import sys\n",
      "/Library/Frameworks/Python.framework/Versions/3.6/lib/python3.6/site-packages/ipykernel_launcher.py:8: SettingWithCopyWarning: \n",
      "A value is trying to be set on a copy of a slice from a DataFrame\n",
      "\n",
      "See the caveats in the documentation: http://pandas.pydata.org/pandas-docs/stable/indexing.html#indexing-view-versus-copy\n",
      "  \n"
     ]
    }
   ],
   "source": [
    "# Definitely Agree (= 1)\n",
    "# Agree (= 2)\n",
    "# Disagree (= 3)\n",
    "# Definitely Disagree (= 4)\n",
    "pleasure_group.choice[pleasure_group.choice == \"Strongly agree\"] = 1\n",
    "pleasure_group.choice[pleasure_group.choice == \"Agree\"] = 2\n",
    "pleasure_group.choice[pleasure_group.choice == \"Disagree\"] = 3\n",
    "pleasure_group.choice[pleasure_group.choice == \"Strongly disagree\"] = 4"
   ]
  },
  {
   "cell_type": "code",
   "execution_count": 141,
   "metadata": {},
   "outputs": [],
   "source": [
    "trick = pleasure_group[pleasure_group.question_number == 8]\n",
    "#trick.head(100)"
   ]
  },
  {
   "cell_type": "code",
   "execution_count": 142,
   "metadata": {},
   "outputs": [
    {
     "data": {
      "text/plain": [
       "100"
      ]
     },
     "execution_count": 142,
     "metadata": {},
     "output_type": "execute_result"
    }
   ],
   "source": [
    "pleasure_final = {'id': pleasure_group['Participant Private ID']}\n",
    "pleasure_final = pd.DataFrame(data=pleasure_final)\n",
    "p = pleasure_group.groupby('Participant Private ID')['choice'].sum().reset_index(name = 'total')\n",
    "pleasure_final['pleasure'] = p['total']\n",
    "pleasure_final=pleasure_final.drop_duplicates()\n",
    "len(pleasure_final)"
   ]
  },
  {
   "cell_type": "code",
   "execution_count": 143,
   "metadata": {},
   "outputs": [],
   "source": [
    "pleasure_final.to_csv('dataset/pleasure_100.csv', sep = ',', encoding='utf-8')"
   ]
  },
  {
   "cell_type": "markdown",
   "metadata": {},
   "source": [
    "## Fatigue"
   ]
  },
  {
   "cell_type": "code",
   "execution_count": 144,
   "metadata": {},
   "outputs": [],
   "source": [
    "# import fatigue\n",
    "fatigue = pd.read_csv('raw/data_exp_6138-v39_task-j95b.csv', sep = \",\")\n",
    "fatigue.drop(fatigue.tail(1).index,inplace=True)"
   ]
  },
  {
   "cell_type": "code",
   "execution_count": 145,
   "metadata": {},
   "outputs": [],
   "source": [
    "fatigue_group = fatigue.groupby([\"Participant Private ID\"])['choice made'].apply(list).reset_index()\n",
    "choice_fatigue= extract_choice(fatigue_group['choice made'])\n",
    "fatigue_group = fatigue_group.loc[fatigue_group.index.repeat(22)]"
   ]
  },
  {
   "cell_type": "code",
   "execution_count": 146,
   "metadata": {},
   "outputs": [],
   "source": [
    "fatigue_group['choice'] = choice_fatigue\n",
    "fatigue_group['question_number'] = [1, 2, 3, 4, 5, 6, 7, 8, 9, 10, 11, 12, 13, 14, 15, 16, 17, 18,\n",
    "                                  19, 20, 21,22]*100"
   ]
  },
  {
   "cell_type": "code",
   "execution_count": 147,
   "metadata": {},
   "outputs": [
    {
     "name": "stderr",
     "output_type": "stream",
     "text": [
      "/Library/Frameworks/Python.framework/Versions/3.6/lib/python3.6/site-packages/ipykernel_launcher.py:3: SettingWithCopyWarning: \n",
      "A value is trying to be set on a copy of a slice from a DataFrame\n",
      "\n",
      "See the caveats in the documentation: http://pandas.pydata.org/pandas-docs/stable/indexing.html#indexing-view-versus-copy\n",
      "  This is separate from the ipykernel package so we can avoid doing imports until\n",
      "/Library/Frameworks/Python.framework/Versions/3.6/lib/python3.6/site-packages/ipykernel_launcher.py:4: SettingWithCopyWarning: \n",
      "A value is trying to be set on a copy of a slice from a DataFrame\n",
      "\n",
      "See the caveats in the documentation: http://pandas.pydata.org/pandas-docs/stable/indexing.html#indexing-view-versus-copy\n",
      "  after removing the cwd from sys.path.\n",
      "/Library/Frameworks/Python.framework/Versions/3.6/lib/python3.6/site-packages/ipykernel_launcher.py:5: SettingWithCopyWarning: \n",
      "A value is trying to be set on a copy of a slice from a DataFrame\n",
      "\n",
      "See the caveats in the documentation: http://pandas.pydata.org/pandas-docs/stable/indexing.html#indexing-view-versus-copy\n",
      "  \"\"\"\n",
      "/Library/Frameworks/Python.framework/Versions/3.6/lib/python3.6/site-packages/ipykernel_launcher.py:6: SettingWithCopyWarning: \n",
      "A value is trying to be set on a copy of a slice from a DataFrame\n",
      "\n",
      "See the caveats in the documentation: http://pandas.pydata.org/pandas-docs/stable/indexing.html#indexing-view-versus-copy\n",
      "  \n",
      "/Library/Frameworks/Python.framework/Versions/3.6/lib/python3.6/site-packages/ipykernel_launcher.py:7: SettingWithCopyWarning: \n",
      "A value is trying to be set on a copy of a slice from a DataFrame\n",
      "\n",
      "See the caveats in the documentation: http://pandas.pydata.org/pandas-docs/stable/indexing.html#indexing-view-versus-copy\n",
      "  import sys\n"
     ]
    }
   ],
   "source": [
    "# 'Never', 'Rarely', 'Sometimes', 'Often', 'Almost always'\n",
    "#   0         1          2            3           4\n",
    "fatigue_group.choice[fatigue_group.choice == \"Never\"] = 0\n",
    "fatigue_group.choice[fatigue_group.choice == \"Rarely\"] = 1\n",
    "fatigue_group.choice[fatigue_group.choice == \"Sometimes\"] = 2\n",
    "fatigue_group.choice[fatigue_group.choice == \"Often\"] = 3\n",
    "fatigue_group.choice[fatigue_group.choice == \"Almost always\"] = 4"
   ]
  },
  {
   "cell_type": "code",
   "execution_count": 148,
   "metadata": {},
   "outputs": [],
   "source": [
    "# trick question 5\n",
    "# Physical 4, 7, 8, 11, 14, 15, 18, 21, 22\n",
    "# Cognitive 1, 2, 3, 6, 12, 13, 16, 17, 19, 20\n",
    "# Psychosocial 9, 10\n",
    "\n",
    "fatigue_physical = fatigue_group[fatigue_group['question_number'].isin([4, 7, 8, 11, 14, 15, 18, 21, 22])]\n",
    "fatigue_cognitive = fatigue_group[fatigue_group['question_number'].isin([1, 2, 3, 6, 12, 13, 16, 17, 19, 20])]\n",
    "fatigue_psychological = fatigue_group[fatigue_group['question_number'].isin([9, 10])]\n",
    "fatigue_trick = fatigue_group[fatigue_group['question_number'].isin([5])]"
   ]
  },
  {
   "cell_type": "code",
   "execution_count": 149,
   "metadata": {},
   "outputs": [],
   "source": [
    "physical = fatigue_physical.groupby(['Participant Private ID'])['choice'].sum().reset_index()\n",
    "physical.columns = ['id', 'physical']\n",
    "cognitive = fatigue_cognitive.groupby(['Participant Private ID'])['choice'].sum().reset_index()\n",
    "cognitive.columns = ['id', 'cognitive']\n",
    "psychological = fatigue_psychological.groupby(['Participant Private ID'])['choice'].sum().reset_index()\n",
    "psychological.columns = ['id', 'psychological']"
   ]
  },
  {
   "cell_type": "code",
   "execution_count": 150,
   "metadata": {},
   "outputs": [],
   "source": [
    "fatigue_final = {'id': physical['id'], 'physical': physical['physical'], \n",
    "                'cognitive': cognitive['cognitive'],\n",
    "               'psychological': psychological['psychological']}\n",
    "fatigue_final = pd.DataFrame(data=fatigue_final)\n",
    "fatigue_final['fatigue'] = fatigue_final['physical'] + fatigue_final['cognitive'] + fatigue_final['psychological']\n",
    "\n",
    "fatigue_final.to_csv('dataset/fatigue_100.csv', sep = ',', encoding='utf-8')"
   ]
  },
  {
   "cell_type": "markdown",
   "metadata": {},
   "source": [
    "# All questionnaires into one giant table"
   ]
  },
  {
   "cell_type": "code",
   "execution_count": 151,
   "metadata": {},
   "outputs": [],
   "source": [
    "scale = pd.merge(AMI_final, HADS_final, on = ['id'], how = 'inner')"
   ]
  },
  {
   "cell_type": "code",
   "execution_count": 152,
   "metadata": {},
   "outputs": [],
   "source": [
    "scale = pd.merge(scale, fatigue_final, on = ['id'], how = 'inner')"
   ]
  },
  {
   "cell_type": "code",
   "execution_count": 153,
   "metadata": {},
   "outputs": [],
   "source": [
    "scale = pd.merge(scale, pleasure_final, on = ['id'], how = 'inner')"
   ]
  },
  {
   "cell_type": "code",
   "execution_count": 154,
   "metadata": {},
   "outputs": [],
   "source": [
    "scale = pd.merge(scale, barrat_final, on = ['id'], how = 'inner')"
   ]
  },
  {
   "cell_type": "code",
   "execution_count": 156,
   "metadata": {},
   "outputs": [],
   "source": [
    "scale.to_csv('dataset/scale_fisherman_100.csv', sep = ',', encoding='utf-8')"
   ]
  },
  {
   "cell_type": "markdown",
   "metadata": {},
   "source": [
    "# Heatmap"
   ]
  },
  {
   "cell_type": "code",
   "execution_count": 155,
   "metadata": {},
   "outputs": [
    {
     "data": {
      "text/html": [
       "<div>\n",
       "<style scoped>\n",
       "    .dataframe tbody tr th:only-of-type {\n",
       "        vertical-align: middle;\n",
       "    }\n",
       "\n",
       "    .dataframe tbody tr th {\n",
       "        vertical-align: top;\n",
       "    }\n",
       "\n",
       "    .dataframe thead th {\n",
       "        text-align: right;\n",
       "    }\n",
       "</style>\n",
       "<table border=\"1\" class=\"dataframe\">\n",
       "  <thead>\n",
       "    <tr style=\"text-align: right;\">\n",
       "      <th></th>\n",
       "      <th>id</th>\n",
       "      <th>bAMI</th>\n",
       "      <th>sAMI</th>\n",
       "      <th>eAMI</th>\n",
       "      <th>tAMI</th>\n",
       "      <th>anxiety</th>\n",
       "      <th>depression</th>\n",
       "      <th>tHADS</th>\n",
       "      <th>physical</th>\n",
       "      <th>cognitive</th>\n",
       "      <th>psychological</th>\n",
       "      <th>fatigue</th>\n",
       "      <th>pleasure</th>\n",
       "      <th>attention</th>\n",
       "      <th>cognitive_instable</th>\n",
       "      <th>motor</th>\n",
       "      <th>perseverance</th>\n",
       "      <th>self_control</th>\n",
       "      <th>cognitive_complexity</th>\n",
       "      <th>attentional</th>\n",
       "      <th>motor_0</th>\n",
       "      <th>nonplanning</th>\n",
       "      <th>impulsivity</th>\n",
       "    </tr>\n",
       "  </thead>\n",
       "  <tbody>\n",
       "    <tr>\n",
       "      <th>0</th>\n",
       "      <td>668220.000</td>\n",
       "      <td>0.167</td>\n",
       "      <td>0.667</td>\n",
       "      <td>1.167</td>\n",
       "      <td>0.667</td>\n",
       "      <td>0.000</td>\n",
       "      <td>0.000</td>\n",
       "      <td>0.000</td>\n",
       "      <td>0</td>\n",
       "      <td>0</td>\n",
       "      <td>0</td>\n",
       "      <td>0</td>\n",
       "      <td>18</td>\n",
       "      <td>6</td>\n",
       "      <td>4</td>\n",
       "      <td>16</td>\n",
       "      <td>8</td>\n",
       "      <td>9</td>\n",
       "      <td>8</td>\n",
       "      <td>10</td>\n",
       "      <td>24</td>\n",
       "      <td>17</td>\n",
       "      <td>51</td>\n",
       "    </tr>\n",
       "  </tbody>\n",
       "</table>\n",
       "</div>"
      ],
      "text/plain": [
       "          id  bAMI  sAMI  eAMI  tAMI  anxiety  depression  tHADS  physical  \\\n",
       "0 668220.000 0.167 0.667 1.167 0.667    0.000       0.000  0.000         0   \n",
       "\n",
       "   cognitive  psychological  fatigue  pleasure  attention  cognitive_instable  \\\n",
       "0          0              0        0        18          6                   4   \n",
       "\n",
       "   motor  perseverance  self_control  cognitive_complexity  attentional  \\\n",
       "0     16             8             9                     8           10   \n",
       "\n",
       "   motor_0  nonplanning  impulsivity  \n",
       "0       24           17           51  "
      ]
     },
     "execution_count": 155,
     "metadata": {},
     "output_type": "execute_result"
    }
   ],
   "source": [
    "scale.head(1)"
   ]
  },
  {
   "cell_type": "code",
   "execution_count": 171,
   "metadata": {},
   "outputs": [],
   "source": [
    "heat_map = scale.drop('id', axis = 1)"
   ]
  },
  {
   "cell_type": "code",
   "execution_count": 172,
   "metadata": {},
   "outputs": [],
   "source": [
    "heat_map = heat_map[heat_map.notnull()]"
   ]
  },
  {
   "cell_type": "code",
   "execution_count": 173,
   "metadata": {},
   "outputs": [],
   "source": [
    "def compute_corr_and_p(df1, df2):\n",
    "    corrs = pd.DataFrame(index=df1.columns, columns=df2.columns, dtype=np.float64)\n",
    "    pvals = corrs.copy()\n",
    "    for i, j in product(df1.columns, df2.columns):\n",
    "        corrs.loc[i,j], pvals.loc[i,j] = ss.spearmanr(df1[i], df2[j])\n",
    "    return corrs, pvals\n",
    "\n",
    "def plot(corrs, pvals, siglevel=.01):\n",
    "    mask = np.zeros_like(corrs, dtype=np.bool)\n",
    "    mask[np.triu_indices_from(mask) | (pvals >= siglevel) ] = True\n",
    "    \n",
    "    cmap = sns.diverging_palette(220, 10, as_cmap=True)\n",
    "    \n",
    "    sns.heatmap(corrs, mask=mask, cmap=cmap, center=0, square=True, linewidths=.5,\n",
    "           cbar_kws={'shrink': .5})"
   ]
  },
  {
   "cell_type": "code",
   "execution_count": 174,
   "metadata": {},
   "outputs": [],
   "source": [
    "corrs, pvals = compute_corr_and_p(heat_map, heat_map)"
   ]
  },
  {
   "cell_type": "code",
   "execution_count": 175,
   "metadata": {},
   "outputs": [
    {
     "data": {
      "text/html": [
       "<div>\n",
       "<style scoped>\n",
       "    .dataframe tbody tr th:only-of-type {\n",
       "        vertical-align: middle;\n",
       "    }\n",
       "\n",
       "    .dataframe tbody tr th {\n",
       "        vertical-align: top;\n",
       "    }\n",
       "\n",
       "    .dataframe thead th {\n",
       "        text-align: right;\n",
       "    }\n",
       "</style>\n",
       "<table border=\"1\" class=\"dataframe\">\n",
       "  <thead>\n",
       "    <tr style=\"text-align: right;\">\n",
       "      <th></th>\n",
       "      <th>bAMI</th>\n",
       "      <th>sAMI</th>\n",
       "      <th>eAMI</th>\n",
       "      <th>tAMI</th>\n",
       "      <th>anxiety</th>\n",
       "      <th>depression</th>\n",
       "      <th>tHADS</th>\n",
       "      <th>physical</th>\n",
       "      <th>cognitive</th>\n",
       "      <th>psychological</th>\n",
       "      <th>fatigue</th>\n",
       "      <th>pleasure</th>\n",
       "      <th>attention</th>\n",
       "      <th>cognitive_instable</th>\n",
       "      <th>motor</th>\n",
       "      <th>perseverance</th>\n",
       "      <th>self_control</th>\n",
       "      <th>cognitive_complexity</th>\n",
       "      <th>attentional</th>\n",
       "      <th>motor_0</th>\n",
       "      <th>nonplanning</th>\n",
       "      <th>impulsivity</th>\n",
       "    </tr>\n",
       "  </thead>\n",
       "  <tbody>\n",
       "    <tr>\n",
       "      <th>bAMI</th>\n",
       "      <td>0.000</td>\n",
       "      <td>0.000</td>\n",
       "      <td>0.027</td>\n",
       "      <td>0.000</td>\n",
       "      <td>nan</td>\n",
       "      <td>nan</td>\n",
       "      <td>nan</td>\n",
       "      <td>0.007</td>\n",
       "      <td>0.000</td>\n",
       "      <td>0.000</td>\n",
       "      <td>0.000</td>\n",
       "      <td>0.000</td>\n",
       "      <td>0.001</td>\n",
       "      <td>0.010</td>\n",
       "      <td>0.019</td>\n",
       "      <td>0.001</td>\n",
       "      <td>0.000</td>\n",
       "      <td>0.008</td>\n",
       "      <td>0.000</td>\n",
       "      <td>0.761</td>\n",
       "      <td>0.000</td>\n",
       "      <td>0.007</td>\n",
       "    </tr>\n",
       "    <tr>\n",
       "      <th>sAMI</th>\n",
       "      <td>0.000</td>\n",
       "      <td>0.000</td>\n",
       "      <td>0.090</td>\n",
       "      <td>0.000</td>\n",
       "      <td>nan</td>\n",
       "      <td>nan</td>\n",
       "      <td>nan</td>\n",
       "      <td>0.001</td>\n",
       "      <td>0.004</td>\n",
       "      <td>0.000</td>\n",
       "      <td>0.000</td>\n",
       "      <td>0.000</td>\n",
       "      <td>0.072</td>\n",
       "      <td>0.069</td>\n",
       "      <td>0.000</td>\n",
       "      <td>0.134</td>\n",
       "      <td>0.071</td>\n",
       "      <td>0.003</td>\n",
       "      <td>0.037</td>\n",
       "      <td>0.038</td>\n",
       "      <td>0.004</td>\n",
       "      <td>0.366</td>\n",
       "    </tr>\n",
       "    <tr>\n",
       "      <th>eAMI</th>\n",
       "      <td>0.027</td>\n",
       "      <td>0.090</td>\n",
       "      <td>0.000</td>\n",
       "      <td>0.000</td>\n",
       "      <td>nan</td>\n",
       "      <td>nan</td>\n",
       "      <td>nan</td>\n",
       "      <td>0.234</td>\n",
       "      <td>0.983</td>\n",
       "      <td>0.728</td>\n",
       "      <td>0.561</td>\n",
       "      <td>0.000</td>\n",
       "      <td>0.821</td>\n",
       "      <td>0.244</td>\n",
       "      <td>0.754</td>\n",
       "      <td>0.224</td>\n",
       "      <td>0.045</td>\n",
       "      <td>0.052</td>\n",
       "      <td>0.473</td>\n",
       "      <td>0.825</td>\n",
       "      <td>0.037</td>\n",
       "      <td>0.564</td>\n",
       "    </tr>\n",
       "    <tr>\n",
       "      <th>tAMI</th>\n",
       "      <td>0.000</td>\n",
       "      <td>0.000</td>\n",
       "      <td>0.000</td>\n",
       "      <td>0.000</td>\n",
       "      <td>nan</td>\n",
       "      <td>nan</td>\n",
       "      <td>nan</td>\n",
       "      <td>0.010</td>\n",
       "      <td>0.000</td>\n",
       "      <td>0.000</td>\n",
       "      <td>0.000</td>\n",
       "      <td>0.000</td>\n",
       "      <td>0.008</td>\n",
       "      <td>0.050</td>\n",
       "      <td>0.001</td>\n",
       "      <td>0.003</td>\n",
       "      <td>0.000</td>\n",
       "      <td>0.001</td>\n",
       "      <td>0.005</td>\n",
       "      <td>0.223</td>\n",
       "      <td>0.000</td>\n",
       "      <td>0.040</td>\n",
       "    </tr>\n",
       "    <tr>\n",
       "      <th>anxiety</th>\n",
       "      <td>nan</td>\n",
       "      <td>nan</td>\n",
       "      <td>nan</td>\n",
       "      <td>nan</td>\n",
       "      <td>nan</td>\n",
       "      <td>nan</td>\n",
       "      <td>nan</td>\n",
       "      <td>nan</td>\n",
       "      <td>nan</td>\n",
       "      <td>nan</td>\n",
       "      <td>nan</td>\n",
       "      <td>nan</td>\n",
       "      <td>nan</td>\n",
       "      <td>nan</td>\n",
       "      <td>nan</td>\n",
       "      <td>nan</td>\n",
       "      <td>nan</td>\n",
       "      <td>nan</td>\n",
       "      <td>nan</td>\n",
       "      <td>nan</td>\n",
       "      <td>nan</td>\n",
       "      <td>nan</td>\n",
       "    </tr>\n",
       "    <tr>\n",
       "      <th>depression</th>\n",
       "      <td>nan</td>\n",
       "      <td>nan</td>\n",
       "      <td>nan</td>\n",
       "      <td>nan</td>\n",
       "      <td>nan</td>\n",
       "      <td>nan</td>\n",
       "      <td>nan</td>\n",
       "      <td>nan</td>\n",
       "      <td>nan</td>\n",
       "      <td>nan</td>\n",
       "      <td>nan</td>\n",
       "      <td>nan</td>\n",
       "      <td>nan</td>\n",
       "      <td>nan</td>\n",
       "      <td>nan</td>\n",
       "      <td>nan</td>\n",
       "      <td>nan</td>\n",
       "      <td>nan</td>\n",
       "      <td>nan</td>\n",
       "      <td>nan</td>\n",
       "      <td>nan</td>\n",
       "      <td>nan</td>\n",
       "    </tr>\n",
       "    <tr>\n",
       "      <th>tHADS</th>\n",
       "      <td>nan</td>\n",
       "      <td>nan</td>\n",
       "      <td>nan</td>\n",
       "      <td>nan</td>\n",
       "      <td>nan</td>\n",
       "      <td>nan</td>\n",
       "      <td>nan</td>\n",
       "      <td>nan</td>\n",
       "      <td>nan</td>\n",
       "      <td>nan</td>\n",
       "      <td>nan</td>\n",
       "      <td>nan</td>\n",
       "      <td>nan</td>\n",
       "      <td>nan</td>\n",
       "      <td>nan</td>\n",
       "      <td>nan</td>\n",
       "      <td>nan</td>\n",
       "      <td>nan</td>\n",
       "      <td>nan</td>\n",
       "      <td>nan</td>\n",
       "      <td>nan</td>\n",
       "      <td>nan</td>\n",
       "    </tr>\n",
       "    <tr>\n",
       "      <th>physical</th>\n",
       "      <td>0.007</td>\n",
       "      <td>0.001</td>\n",
       "      <td>0.234</td>\n",
       "      <td>0.010</td>\n",
       "      <td>nan</td>\n",
       "      <td>nan</td>\n",
       "      <td>nan</td>\n",
       "      <td>0.000</td>\n",
       "      <td>0.000</td>\n",
       "      <td>0.000</td>\n",
       "      <td>0.000</td>\n",
       "      <td>0.000</td>\n",
       "      <td>0.000</td>\n",
       "      <td>0.001</td>\n",
       "      <td>0.546</td>\n",
       "      <td>0.003</td>\n",
       "      <td>0.013</td>\n",
       "      <td>0.001</td>\n",
       "      <td>0.000</td>\n",
       "      <td>0.050</td>\n",
       "      <td>0.001</td>\n",
       "      <td>0.000</td>\n",
       "    </tr>\n",
       "    <tr>\n",
       "      <th>cognitive</th>\n",
       "      <td>0.000</td>\n",
       "      <td>0.004</td>\n",
       "      <td>0.983</td>\n",
       "      <td>0.000</td>\n",
       "      <td>nan</td>\n",
       "      <td>nan</td>\n",
       "      <td>nan</td>\n",
       "      <td>0.000</td>\n",
       "      <td>0.000</td>\n",
       "      <td>0.000</td>\n",
       "      <td>0.000</td>\n",
       "      <td>0.000</td>\n",
       "      <td>0.000</td>\n",
       "      <td>0.000</td>\n",
       "      <td>0.871</td>\n",
       "      <td>0.000</td>\n",
       "      <td>0.002</td>\n",
       "      <td>0.000</td>\n",
       "      <td>0.000</td>\n",
       "      <td>0.020</td>\n",
       "      <td>0.000</td>\n",
       "      <td>0.000</td>\n",
       "    </tr>\n",
       "    <tr>\n",
       "      <th>psychological</th>\n",
       "      <td>0.000</td>\n",
       "      <td>0.000</td>\n",
       "      <td>0.728</td>\n",
       "      <td>0.000</td>\n",
       "      <td>nan</td>\n",
       "      <td>nan</td>\n",
       "      <td>nan</td>\n",
       "      <td>0.000</td>\n",
       "      <td>0.000</td>\n",
       "      <td>0.000</td>\n",
       "      <td>0.000</td>\n",
       "      <td>0.000</td>\n",
       "      <td>0.001</td>\n",
       "      <td>0.000</td>\n",
       "      <td>0.432</td>\n",
       "      <td>0.003</td>\n",
       "      <td>0.000</td>\n",
       "      <td>0.027</td>\n",
       "      <td>0.000</td>\n",
       "      <td>0.544</td>\n",
       "      <td>0.001</td>\n",
       "      <td>0.001</td>\n",
       "    </tr>\n",
       "    <tr>\n",
       "      <th>fatigue</th>\n",
       "      <td>0.000</td>\n",
       "      <td>0.000</td>\n",
       "      <td>0.561</td>\n",
       "      <td>0.000</td>\n",
       "      <td>nan</td>\n",
       "      <td>nan</td>\n",
       "      <td>nan</td>\n",
       "      <td>0.000</td>\n",
       "      <td>0.000</td>\n",
       "      <td>0.000</td>\n",
       "      <td>0.000</td>\n",
       "      <td>0.000</td>\n",
       "      <td>0.000</td>\n",
       "      <td>0.000</td>\n",
       "      <td>0.919</td>\n",
       "      <td>0.000</td>\n",
       "      <td>0.001</td>\n",
       "      <td>0.000</td>\n",
       "      <td>0.000</td>\n",
       "      <td>0.033</td>\n",
       "      <td>0.000</td>\n",
       "      <td>0.000</td>\n",
       "    </tr>\n",
       "    <tr>\n",
       "      <th>pleasure</th>\n",
       "      <td>0.000</td>\n",
       "      <td>0.000</td>\n",
       "      <td>0.000</td>\n",
       "      <td>0.000</td>\n",
       "      <td>nan</td>\n",
       "      <td>nan</td>\n",
       "      <td>nan</td>\n",
       "      <td>0.000</td>\n",
       "      <td>0.000</td>\n",
       "      <td>0.000</td>\n",
       "      <td>0.000</td>\n",
       "      <td>0.000</td>\n",
       "      <td>0.004</td>\n",
       "      <td>0.143</td>\n",
       "      <td>0.231</td>\n",
       "      <td>0.009</td>\n",
       "      <td>0.020</td>\n",
       "      <td>0.006</td>\n",
       "      <td>0.006</td>\n",
       "      <td>0.886</td>\n",
       "      <td>0.006</td>\n",
       "      <td>0.045</td>\n",
       "    </tr>\n",
       "    <tr>\n",
       "      <th>attention</th>\n",
       "      <td>0.001</td>\n",
       "      <td>0.072</td>\n",
       "      <td>0.821</td>\n",
       "      <td>0.008</td>\n",
       "      <td>nan</td>\n",
       "      <td>nan</td>\n",
       "      <td>nan</td>\n",
       "      <td>0.000</td>\n",
       "      <td>0.000</td>\n",
       "      <td>0.001</td>\n",
       "      <td>0.000</td>\n",
       "      <td>0.004</td>\n",
       "      <td>0.000</td>\n",
       "      <td>0.000</td>\n",
       "      <td>0.140</td>\n",
       "      <td>0.000</td>\n",
       "      <td>0.000</td>\n",
       "      <td>0.000</td>\n",
       "      <td>0.000</td>\n",
       "      <td>0.000</td>\n",
       "      <td>0.000</td>\n",
       "      <td>0.000</td>\n",
       "    </tr>\n",
       "    <tr>\n",
       "      <th>cognitive_instable</th>\n",
       "      <td>0.010</td>\n",
       "      <td>0.069</td>\n",
       "      <td>0.244</td>\n",
       "      <td>0.050</td>\n",
       "      <td>nan</td>\n",
       "      <td>nan</td>\n",
       "      <td>nan</td>\n",
       "      <td>0.001</td>\n",
       "      <td>0.000</td>\n",
       "      <td>0.000</td>\n",
       "      <td>0.000</td>\n",
       "      <td>0.143</td>\n",
       "      <td>0.000</td>\n",
       "      <td>0.000</td>\n",
       "      <td>0.076</td>\n",
       "      <td>0.000</td>\n",
       "      <td>0.745</td>\n",
       "      <td>0.423</td>\n",
       "      <td>0.000</td>\n",
       "      <td>0.000</td>\n",
       "      <td>0.515</td>\n",
       "      <td>0.000</td>\n",
       "    </tr>\n",
       "    <tr>\n",
       "      <th>motor</th>\n",
       "      <td>0.019</td>\n",
       "      <td>0.000</td>\n",
       "      <td>0.754</td>\n",
       "      <td>0.001</td>\n",
       "      <td>nan</td>\n",
       "      <td>nan</td>\n",
       "      <td>nan</td>\n",
       "      <td>0.546</td>\n",
       "      <td>0.871</td>\n",
       "      <td>0.432</td>\n",
       "      <td>0.919</td>\n",
       "      <td>0.231</td>\n",
       "      <td>0.140</td>\n",
       "      <td>0.076</td>\n",
       "      <td>0.000</td>\n",
       "      <td>0.343</td>\n",
       "      <td>0.088</td>\n",
       "      <td>0.191</td>\n",
       "      <td>0.044</td>\n",
       "      <td>0.000</td>\n",
       "      <td>0.101</td>\n",
       "      <td>0.000</td>\n",
       "    </tr>\n",
       "    <tr>\n",
       "      <th>perseverance</th>\n",
       "      <td>0.001</td>\n",
       "      <td>0.134</td>\n",
       "      <td>0.224</td>\n",
       "      <td>0.003</td>\n",
       "      <td>nan</td>\n",
       "      <td>nan</td>\n",
       "      <td>nan</td>\n",
       "      <td>0.003</td>\n",
       "      <td>0.000</td>\n",
       "      <td>0.003</td>\n",
       "      <td>0.000</td>\n",
       "      <td>0.009</td>\n",
       "      <td>0.000</td>\n",
       "      <td>0.000</td>\n",
       "      <td>0.343</td>\n",
       "      <td>0.000</td>\n",
       "      <td>0.015</td>\n",
       "      <td>0.000</td>\n",
       "      <td>0.000</td>\n",
       "      <td>0.000</td>\n",
       "      <td>0.000</td>\n",
       "      <td>0.000</td>\n",
       "    </tr>\n",
       "    <tr>\n",
       "      <th>self_control</th>\n",
       "      <td>0.000</td>\n",
       "      <td>0.071</td>\n",
       "      <td>0.045</td>\n",
       "      <td>0.000</td>\n",
       "      <td>nan</td>\n",
       "      <td>nan</td>\n",
       "      <td>nan</td>\n",
       "      <td>0.013</td>\n",
       "      <td>0.002</td>\n",
       "      <td>0.000</td>\n",
       "      <td>0.001</td>\n",
       "      <td>0.020</td>\n",
       "      <td>0.000</td>\n",
       "      <td>0.745</td>\n",
       "      <td>0.088</td>\n",
       "      <td>0.015</td>\n",
       "      <td>0.000</td>\n",
       "      <td>0.000</td>\n",
       "      <td>0.007</td>\n",
       "      <td>0.006</td>\n",
       "      <td>0.000</td>\n",
       "      <td>0.000</td>\n",
       "    </tr>\n",
       "    <tr>\n",
       "      <th>cognitive_complexity</th>\n",
       "      <td>0.008</td>\n",
       "      <td>0.003</td>\n",
       "      <td>0.052</td>\n",
       "      <td>0.001</td>\n",
       "      <td>nan</td>\n",
       "      <td>nan</td>\n",
       "      <td>nan</td>\n",
       "      <td>0.001</td>\n",
       "      <td>0.000</td>\n",
       "      <td>0.027</td>\n",
       "      <td>0.000</td>\n",
       "      <td>0.006</td>\n",
       "      <td>0.000</td>\n",
       "      <td>0.423</td>\n",
       "      <td>0.191</td>\n",
       "      <td>0.000</td>\n",
       "      <td>0.000</td>\n",
       "      <td>0.000</td>\n",
       "      <td>0.000</td>\n",
       "      <td>0.002</td>\n",
       "      <td>0.000</td>\n",
       "      <td>0.000</td>\n",
       "    </tr>\n",
       "    <tr>\n",
       "      <th>attentional</th>\n",
       "      <td>0.000</td>\n",
       "      <td>0.037</td>\n",
       "      <td>0.473</td>\n",
       "      <td>0.005</td>\n",
       "      <td>nan</td>\n",
       "      <td>nan</td>\n",
       "      <td>nan</td>\n",
       "      <td>0.000</td>\n",
       "      <td>0.000</td>\n",
       "      <td>0.000</td>\n",
       "      <td>0.000</td>\n",
       "      <td>0.006</td>\n",
       "      <td>0.000</td>\n",
       "      <td>0.000</td>\n",
       "      <td>0.044</td>\n",
       "      <td>0.000</td>\n",
       "      <td>0.007</td>\n",
       "      <td>0.000</td>\n",
       "      <td>0.000</td>\n",
       "      <td>0.000</td>\n",
       "      <td>0.000</td>\n",
       "      <td>0.000</td>\n",
       "    </tr>\n",
       "    <tr>\n",
       "      <th>motor_0</th>\n",
       "      <td>0.761</td>\n",
       "      <td>0.038</td>\n",
       "      <td>0.825</td>\n",
       "      <td>0.223</td>\n",
       "      <td>nan</td>\n",
       "      <td>nan</td>\n",
       "      <td>nan</td>\n",
       "      <td>0.050</td>\n",
       "      <td>0.020</td>\n",
       "      <td>0.544</td>\n",
       "      <td>0.033</td>\n",
       "      <td>0.886</td>\n",
       "      <td>0.000</td>\n",
       "      <td>0.000</td>\n",
       "      <td>0.000</td>\n",
       "      <td>0.000</td>\n",
       "      <td>0.006</td>\n",
       "      <td>0.002</td>\n",
       "      <td>0.000</td>\n",
       "      <td>0.000</td>\n",
       "      <td>0.001</td>\n",
       "      <td>0.000</td>\n",
       "    </tr>\n",
       "    <tr>\n",
       "      <th>nonplanning</th>\n",
       "      <td>0.000</td>\n",
       "      <td>0.004</td>\n",
       "      <td>0.037</td>\n",
       "      <td>0.000</td>\n",
       "      <td>nan</td>\n",
       "      <td>nan</td>\n",
       "      <td>nan</td>\n",
       "      <td>0.001</td>\n",
       "      <td>0.000</td>\n",
       "      <td>0.001</td>\n",
       "      <td>0.000</td>\n",
       "      <td>0.006</td>\n",
       "      <td>0.000</td>\n",
       "      <td>0.515</td>\n",
       "      <td>0.101</td>\n",
       "      <td>0.000</td>\n",
       "      <td>0.000</td>\n",
       "      <td>0.000</td>\n",
       "      <td>0.000</td>\n",
       "      <td>0.001</td>\n",
       "      <td>0.000</td>\n",
       "      <td>0.000</td>\n",
       "    </tr>\n",
       "    <tr>\n",
       "      <th>impulsivity</th>\n",
       "      <td>0.007</td>\n",
       "      <td>0.366</td>\n",
       "      <td>0.564</td>\n",
       "      <td>0.040</td>\n",
       "      <td>nan</td>\n",
       "      <td>nan</td>\n",
       "      <td>nan</td>\n",
       "      <td>0.000</td>\n",
       "      <td>0.000</td>\n",
       "      <td>0.001</td>\n",
       "      <td>0.000</td>\n",
       "      <td>0.045</td>\n",
       "      <td>0.000</td>\n",
       "      <td>0.000</td>\n",
       "      <td>0.000</td>\n",
       "      <td>0.000</td>\n",
       "      <td>0.000</td>\n",
       "      <td>0.000</td>\n",
       "      <td>0.000</td>\n",
       "      <td>0.000</td>\n",
       "      <td>0.000</td>\n",
       "      <td>0.000</td>\n",
       "    </tr>\n",
       "  </tbody>\n",
       "</table>\n",
       "</div>"
      ],
      "text/plain": [
       "                      bAMI  sAMI  eAMI  tAMI  anxiety  depression  tHADS  \\\n",
       "bAMI                 0.000 0.000 0.027 0.000      nan         nan    nan   \n",
       "sAMI                 0.000 0.000 0.090 0.000      nan         nan    nan   \n",
       "eAMI                 0.027 0.090 0.000 0.000      nan         nan    nan   \n",
       "tAMI                 0.000 0.000 0.000 0.000      nan         nan    nan   \n",
       "anxiety                nan   nan   nan   nan      nan         nan    nan   \n",
       "depression             nan   nan   nan   nan      nan         nan    nan   \n",
       "tHADS                  nan   nan   nan   nan      nan         nan    nan   \n",
       "physical             0.007 0.001 0.234 0.010      nan         nan    nan   \n",
       "cognitive            0.000 0.004 0.983 0.000      nan         nan    nan   \n",
       "psychological        0.000 0.000 0.728 0.000      nan         nan    nan   \n",
       "fatigue              0.000 0.000 0.561 0.000      nan         nan    nan   \n",
       "pleasure             0.000 0.000 0.000 0.000      nan         nan    nan   \n",
       "attention            0.001 0.072 0.821 0.008      nan         nan    nan   \n",
       "cognitive_instable   0.010 0.069 0.244 0.050      nan         nan    nan   \n",
       "motor                0.019 0.000 0.754 0.001      nan         nan    nan   \n",
       "perseverance         0.001 0.134 0.224 0.003      nan         nan    nan   \n",
       "self_control         0.000 0.071 0.045 0.000      nan         nan    nan   \n",
       "cognitive_complexity 0.008 0.003 0.052 0.001      nan         nan    nan   \n",
       "attentional          0.000 0.037 0.473 0.005      nan         nan    nan   \n",
       "motor_0              0.761 0.038 0.825 0.223      nan         nan    nan   \n",
       "nonplanning          0.000 0.004 0.037 0.000      nan         nan    nan   \n",
       "impulsivity          0.007 0.366 0.564 0.040      nan         nan    nan   \n",
       "\n",
       "                      physical  cognitive  psychological  fatigue  pleasure  \\\n",
       "bAMI                     0.007      0.000          0.000    0.000     0.000   \n",
       "sAMI                     0.001      0.004          0.000    0.000     0.000   \n",
       "eAMI                     0.234      0.983          0.728    0.561     0.000   \n",
       "tAMI                     0.010      0.000          0.000    0.000     0.000   \n",
       "anxiety                    nan        nan            nan      nan       nan   \n",
       "depression                 nan        nan            nan      nan       nan   \n",
       "tHADS                      nan        nan            nan      nan       nan   \n",
       "physical                 0.000      0.000          0.000    0.000     0.000   \n",
       "cognitive                0.000      0.000          0.000    0.000     0.000   \n",
       "psychological            0.000      0.000          0.000    0.000     0.000   \n",
       "fatigue                  0.000      0.000          0.000    0.000     0.000   \n",
       "pleasure                 0.000      0.000          0.000    0.000     0.000   \n",
       "attention                0.000      0.000          0.001    0.000     0.004   \n",
       "cognitive_instable       0.001      0.000          0.000    0.000     0.143   \n",
       "motor                    0.546      0.871          0.432    0.919     0.231   \n",
       "perseverance             0.003      0.000          0.003    0.000     0.009   \n",
       "self_control             0.013      0.002          0.000    0.001     0.020   \n",
       "cognitive_complexity     0.001      0.000          0.027    0.000     0.006   \n",
       "attentional              0.000      0.000          0.000    0.000     0.006   \n",
       "motor_0                  0.050      0.020          0.544    0.033     0.886   \n",
       "nonplanning              0.001      0.000          0.001    0.000     0.006   \n",
       "impulsivity              0.000      0.000          0.001    0.000     0.045   \n",
       "\n",
       "                      attention  cognitive_instable  motor  perseverance  \\\n",
       "bAMI                      0.001               0.010  0.019         0.001   \n",
       "sAMI                      0.072               0.069  0.000         0.134   \n",
       "eAMI                      0.821               0.244  0.754         0.224   \n",
       "tAMI                      0.008               0.050  0.001         0.003   \n",
       "anxiety                     nan                 nan    nan           nan   \n",
       "depression                  nan                 nan    nan           nan   \n",
       "tHADS                       nan                 nan    nan           nan   \n",
       "physical                  0.000               0.001  0.546         0.003   \n",
       "cognitive                 0.000               0.000  0.871         0.000   \n",
       "psychological             0.001               0.000  0.432         0.003   \n",
       "fatigue                   0.000               0.000  0.919         0.000   \n",
       "pleasure                  0.004               0.143  0.231         0.009   \n",
       "attention                 0.000               0.000  0.140         0.000   \n",
       "cognitive_instable        0.000               0.000  0.076         0.000   \n",
       "motor                     0.140               0.076  0.000         0.343   \n",
       "perseverance              0.000               0.000  0.343         0.000   \n",
       "self_control              0.000               0.745  0.088         0.015   \n",
       "cognitive_complexity      0.000               0.423  0.191         0.000   \n",
       "attentional               0.000               0.000  0.044         0.000   \n",
       "motor_0                   0.000               0.000  0.000         0.000   \n",
       "nonplanning               0.000               0.515  0.101         0.000   \n",
       "impulsivity               0.000               0.000  0.000         0.000   \n",
       "\n",
       "                      self_control  cognitive_complexity  attentional  \\\n",
       "bAMI                         0.000                 0.008        0.000   \n",
       "sAMI                         0.071                 0.003        0.037   \n",
       "eAMI                         0.045                 0.052        0.473   \n",
       "tAMI                         0.000                 0.001        0.005   \n",
       "anxiety                        nan                   nan          nan   \n",
       "depression                     nan                   nan          nan   \n",
       "tHADS                          nan                   nan          nan   \n",
       "physical                     0.013                 0.001        0.000   \n",
       "cognitive                    0.002                 0.000        0.000   \n",
       "psychological                0.000                 0.027        0.000   \n",
       "fatigue                      0.001                 0.000        0.000   \n",
       "pleasure                     0.020                 0.006        0.006   \n",
       "attention                    0.000                 0.000        0.000   \n",
       "cognitive_instable           0.745                 0.423        0.000   \n",
       "motor                        0.088                 0.191        0.044   \n",
       "perseverance                 0.015                 0.000        0.000   \n",
       "self_control                 0.000                 0.000        0.007   \n",
       "cognitive_complexity         0.000                 0.000        0.000   \n",
       "attentional                  0.007                 0.000        0.000   \n",
       "motor_0                      0.006                 0.002        0.000   \n",
       "nonplanning                  0.000                 0.000        0.000   \n",
       "impulsivity                  0.000                 0.000        0.000   \n",
       "\n",
       "                      motor_0  nonplanning  impulsivity  \n",
       "bAMI                    0.761        0.000        0.007  \n",
       "sAMI                    0.038        0.004        0.366  \n",
       "eAMI                    0.825        0.037        0.564  \n",
       "tAMI                    0.223        0.000        0.040  \n",
       "anxiety                   nan          nan          nan  \n",
       "depression                nan          nan          nan  \n",
       "tHADS                     nan          nan          nan  \n",
       "physical                0.050        0.001        0.000  \n",
       "cognitive               0.020        0.000        0.000  \n",
       "psychological           0.544        0.001        0.001  \n",
       "fatigue                 0.033        0.000        0.000  \n",
       "pleasure                0.886        0.006        0.045  \n",
       "attention               0.000        0.000        0.000  \n",
       "cognitive_instable      0.000        0.515        0.000  \n",
       "motor                   0.000        0.101        0.000  \n",
       "perseverance            0.000        0.000        0.000  \n",
       "self_control            0.006        0.000        0.000  \n",
       "cognitive_complexity    0.002        0.000        0.000  \n",
       "attentional             0.000        0.000        0.000  \n",
       "motor_0                 0.000        0.001        0.000  \n",
       "nonplanning             0.001        0.000        0.000  \n",
       "impulsivity             0.000        0.000        0.000  "
      ]
     },
     "execution_count": 175,
     "metadata": {},
     "output_type": "execute_result"
    }
   ],
   "source": [
    "pvals"
   ]
  },
  {
   "cell_type": "code",
   "execution_count": 162,
   "metadata": {},
   "outputs": [],
   "source": [
    "mask = np.zeros_like(pvals, dtype=np.bool)"
   ]
  },
  {
   "cell_type": "code",
   "execution_count": 163,
   "metadata": {},
   "outputs": [
    {
     "data": {
      "image/png": "[encoded data removed]",
      "text/plain": [
       "<Figure size 1440x1728 with 2 Axes>"
      ]
     },
     "metadata": {
      "needs_background": "light"
     },
     "output_type": "display_data"
    }
   ],
   "source": [
    "plt.figure(figsize=(20, 24))\n",
    "mask[np.triu_indices_from(pvals)] = True\n",
    "ax = sns.heatmap(\n",
    "    pvals, \n",
    "    vmin=0.0000001, vmax=1, center=0,\n",
    "    cmap='coolwarm',\n",
    "    square=True,\n",
    "    annot=True, linewidths=.5, fmt = '.3f', mask = mask\n",
    ")\n",
    "ax.set_xticklabels(\n",
    "    ax.get_xticklabels(),\n",
    "    rotation=90,\n",
    "    horizontalalignment='center'\n",
    ");\n"
   ]
  },
  {
   "cell_type": "code",
   "execution_count": null,
   "metadata": {},
   "outputs": [],
   "source": []
  }
 ],
 "metadata": {
  "kernelspec": {
   "display_name": "Python 3",
   "language": "python",
   "name": "python3"
  },
  "language_info": {
   "codemirror_mode": {
    "name": "ipython",
    "version": 3
   },
   "file_extension": ".py",
   "mimetype": "text/x-python",
   "name": "python",
   "nbconvert_exporter": "python",
   "pygments_lexer": "ipython3",
   "version": "3.6.3"
  }
 },
 "nbformat": 4,
 "nbformat_minor": 2
}
